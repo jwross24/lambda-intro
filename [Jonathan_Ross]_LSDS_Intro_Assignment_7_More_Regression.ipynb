{
  "nbformat": 4,
  "nbformat_minor": 0,
  "metadata": {
    "colab": {
      "name": "[Jonathan Ross] LSDS Intro Assignment 7 - More Regression.ipynb",
      "version": "0.3.2",
      "provenance": [],
      "include_colab_link": true
    },
    "kernelspec": {
      "display_name": "Python 3",
      "language": "python",
      "name": "python3"
    }
  },
  "cells": [
    {
      "cell_type": "markdown",
      "metadata": {
        "id": "view-in-github",
        "colab_type": "text"
      },
      "source": [
        "<a href=\"https://colab.research.google.com/github/jwross24/lambda-intro/blob/master/[Jonathan_Ross]_LSDS_Intro_Assignment_7_More_Regression.ipynb\" target=\"_parent\"><img src=\"https://colab.research.google.com/assets/colab-badge.svg\" alt=\"Open In Colab\"/></a>"
      ]
    },
    {
      "metadata": {
        "id": "T9H4rAOJmyXO",
        "colab_type": "text"
      },
      "cell_type": "markdown",
      "source": [
        "# Lambda School, Intro to Data Science, Day 7 — More Regression!\n",
        "\n",
        "## Assignment\n",
        "\n",
        "### 1. Experiment with Nearest Neighbor parameter\n",
        "\n",
        "Using the same 10 training data points from the lesson, train a `KNeighborsRegressor` model with `n_neighbors=1`.\n",
        "\n",
        "Use both `carat` and `cut` features.\n",
        "\n",
        "Calculate the mean absolute error on the training data and on the test data."
      ]
    },
    {
      "metadata": {
        "id": "CKsxHHzmmyXP",
        "colab_type": "code",
        "colab": {}
      },
      "cell_type": "code",
      "source": [
        "%matplotlib inline\n",
        "import matplotlib.pyplot as plt\n",
        "import pandas as pd\n",
        "from sklearn.neighbors import KNeighborsRegressor\n",
        "from sklearn.metrics import mean_absolute_error\n",
        "\n",
        "columns = ['carat', 'cut', 'price']\n",
        "\n",
        "train = pd.DataFrame(columns=columns, \n",
        "        data=[[0.3, 'Ideal', 422],\n",
        "        [0.31, 'Ideal', 489],\n",
        "        [0.42, 'Premium', 737],\n",
        "        [0.5, 'Ideal', 1415],\n",
        "        [0.51, 'Premium', 1177],\n",
        "        [0.7, 'Fair', 1865],\n",
        "        [0.73, 'Fair', 2351],\n",
        "        [1.01, 'Good', 3768],\n",
        "        [1.18, 'Very Good', 3965],\n",
        "        [1.18, 'Ideal', 4838]])\n",
        "\n",
        "test  = pd.DataFrame(columns=columns, \n",
        "        data=[[0.3, 'Ideal', 432],\n",
        "        [0.34, 'Ideal', 687],\n",
        "        [0.37, 'Premium', 1124],\n",
        "        [0.4, 'Good', 720],\n",
        "        [0.51, 'Ideal', 1397],\n",
        "        [0.51, 'Very Good', 1284],\n",
        "        [0.59, 'Ideal', 1437],\n",
        "        [0.7, 'Ideal', 3419],\n",
        "        [0.9, 'Premium', 3484],\n",
        "        [0.9, 'Fair', 2964]])\n",
        "\n",
        "cut_ranks = {'Fair': 1, 'Good': 2, 'Very Good': 3, 'Premium': 4, 'Ideal': 5}\n",
        "train.cut = train.cut.map(cut_ranks)\n",
        "test.cut = test.cut.map(cut_ranks)"
      ],
      "execution_count": 0,
      "outputs": []
    },
    {
      "metadata": {
        "id": "4MrRasT_myXT",
        "colab_type": "code",
        "colab": {
          "base_uri": "https://localhost:8080/",
          "height": 51
        },
        "outputId": "797efa7d-108a-436a-9b1c-31f5b61c0bda"
      },
      "cell_type": "code",
      "source": [
        "from sklearn.metrics import mean_absolute_error\n",
        "\n",
        "features = ['carat', 'cut']\n",
        "target = 'price'\n",
        "\n",
        "# Train a KNeighborsRegressor with K = 1 on carat and cut\n",
        "model = KNeighborsRegressor(n_neighbors=1)\n",
        "model.fit(train[features], train[target])\n",
        "\n",
        "# Calculate the mean absolute error for training and test data\n",
        "y_true = train[target]\n",
        "y_pred = model.predict(train[features])\n",
        "train_error = mean_absolute_error(y_true, y_pred)\n",
        "\n",
        "y_true = test[target]\n",
        "y_pred = model.predict(test[features])\n",
        "test_error = mean_absolute_error(y_true, y_pred)\n",
        "\n",
        "# Print the mean absolute error for training and test data\n",
        "print('Training error: $', round(train_error))\n",
        "print('Test error: $', round(test_error))"
      ],
      "execution_count": 4,
      "outputs": [
        {
          "output_type": "stream",
          "text": [
            "Training error: $ 0.0\n",
            "Test error: $ 1129.0\n"
          ],
          "name": "stdout"
        }
      ]
    },
    {
      "metadata": {
        "id": "NQQveVK9myXV",
        "colab_type": "text"
      },
      "cell_type": "markdown",
      "source": [
        "How does the train error and test error compare to the previous `KNeighborsRegressor` model from the lesson? (The previous model used `n_neighbors=2` and only the `carat` feature.)\n",
        "\n",
        "Is this new model overfitting or underfitting? Why do you think this is happening here? \n",
        "\n"
      ]
    },
    {
      "metadata": {
        "id": "WclwrD61Dfr6",
        "colab_type": "code",
        "colab": {}
      },
      "cell_type": "code",
      "source": [
        "'''\n",
        "Compared to the previous KNeighborsRegressor model, the training error is much\n",
        "lower but the test error 3-4x higher.\n",
        "\n",
        "It looks like the model is overfitting because the training error is 0, but\n",
        "the test error shows that the model is very inaccurate. When k = 1, you use\n",
        "the closest training sample to the test sample. Since the test sample is in\n",
        "the data set, the model chooses itself and never makes a mistake.\n",
        "'''\n"
      ],
      "execution_count": 0,
      "outputs": []
    },
    {
      "metadata": {
        "id": "zQJDW1-QmyXW",
        "colab_type": "text"
      },
      "cell_type": "markdown",
      "source": [
        "### 2. More data, two features, linear regression\n",
        "\n",
        "Use the following code to load data for diamonds under $5,000, and split the data into train and test sets. The training data has almost 30,000 rows, and the test data has almost 10,000 rows."
      ]
    },
    {
      "metadata": {
        "id": "IDXEn8lvmyXW",
        "colab_type": "code",
        "outputId": "0eaea803-f379-49e8-d764-0f37e669eb34",
        "colab": {
          "base_uri": "https://localhost:8080/",
          "height": 34
        }
      },
      "cell_type": "code",
      "source": [
        "import seaborn as sns\n",
        "from sklearn.linear_model import LinearRegression\n",
        "from sklearn.model_selection import train_test_split\n",
        "\n",
        "df = sns.load_dataset('diamonds')\n",
        "df = df[df.price < 5000]\n",
        "train, test = train_test_split(df.copy(), random_state=0)\n",
        "train.shape, test.shape"
      ],
      "execution_count": 5,
      "outputs": [
        {
          "output_type": "execute_result",
          "data": {
            "text/plain": [
              "((29409, 10), (9804, 10))"
            ]
          },
          "metadata": {
            "tags": []
          },
          "execution_count": 5
        }
      ]
    },
    {
      "metadata": {
        "id": "1VZ7PH6nmyXZ",
        "colab_type": "text"
      },
      "cell_type": "markdown",
      "source": [
        "Then, train a Linear Regression model with the `carat` and `cut` features. Calculate the mean absolute error on the training data and on the test data."
      ]
    },
    {
      "metadata": {
        "id": "XCTsEqZtmyXZ",
        "colab_type": "code",
        "colab": {}
      },
      "cell_type": "code",
      "source": [
        "from sklearn.linear_model import LinearRegression\n",
        "\n",
        "# Encode the cut ranks as integers\n",
        "train.cut = train.cut.map(cut_ranks)\n",
        "test.cut = test.cut.map(cut_ranks)"
      ],
      "execution_count": 0,
      "outputs": []
    },
    {
      "metadata": {
        "id": "p6ys4N7VLosx",
        "colab_type": "code",
        "colab": {
          "base_uri": "https://localhost:8080/",
          "height": 51
        },
        "outputId": "a06035b5-2df3-4c64-b659-b167e713fa7b"
      },
      "cell_type": "code",
      "source": [
        "# Train a Linear Regression model with carat and cut\n",
        "model = LinearRegression()\n",
        "model.fit(train[features], train[target])\n",
        "\n",
        "# Calculate the mean absolute error on the training and test data\n",
        "y_true = train[target]\n",
        "y_pred = model.predict(train[features])\n",
        "train_error = mean_absolute_error(y_true, y_pred)\n",
        "\n",
        "y_true = test[target]\n",
        "y_pred = model.predict(test[features])\n",
        "test_error = mean_absolute_error(y_true, y_pred)\n",
        "\n",
        "# Print the training and test errors\n",
        "print('Training error: $', round(train_error))\n",
        "print('Test error: $', round(test_error))"
      ],
      "execution_count": 8,
      "outputs": [
        {
          "output_type": "stream",
          "text": [
            "Training error: $ 309.0\n",
            "Test error: $ 310.0\n"
          ],
          "name": "stdout"
        }
      ]
    },
    {
      "metadata": {
        "id": "4jLEcukVmyXb",
        "colab_type": "text"
      },
      "cell_type": "markdown",
      "source": [
        "Use this model to predict the price of a half carat diamond with \"very good\" cut"
      ]
    },
    {
      "metadata": {
        "id": "m1pDzeLZmyXb",
        "colab_type": "code",
        "colab": {
          "base_uri": "https://localhost:8080/",
          "height": 34
        },
        "outputId": "7a40f74b-85e8-4f6b-cd5c-b5866924a297"
      },
      "cell_type": "code",
      "source": [
        "model.predict([[0.5, 3]])"
      ],
      "execution_count": 9,
      "outputs": [
        {
          "output_type": "execute_result",
          "data": {
            "text/plain": [
              "array([1489.45526366])"
            ]
          },
          "metadata": {
            "tags": []
          },
          "execution_count": 9
        }
      ]
    },
    {
      "metadata": {
        "id": "eB-7wzRjmyXe",
        "colab_type": "text"
      },
      "cell_type": "markdown",
      "source": [
        "### 3. More data, more features, any model"
      ]
    },
    {
      "metadata": {
        "id": "OCauk9z2myXf",
        "colab_type": "text"
      },
      "cell_type": "markdown",
      "source": [
        "You choose what features and model type to use! Try to get a better mean absolute error on the test set than your model from the last question."
      ]
    },
    {
      "metadata": {
        "id": "nWVpkz8dmyXf",
        "colab_type": "text"
      },
      "cell_type": "markdown",
      "source": [
        "Refer to [this documentation](https://ggplot2.tidyverse.org/reference/diamonds.html) for more explanation of the features.\n",
        "\n",
        "Besides `cut`, there are two more ordinal features, which you'd need to encode as numbers if you want to use in your model:"
      ]
    },
    {
      "metadata": {
        "id": "54K95PyEmyXf",
        "colab_type": "code",
        "colab": {}
      },
      "cell_type": "code",
      "source": [
        "df = sns.load_dataset('diamonds')\n",
        "train, test = train_test_split(df.copy(), random_state=0)"
      ],
      "execution_count": 0,
      "outputs": []
    },
    {
      "metadata": {
        "id": "eDX8JkhXQem5",
        "colab_type": "code",
        "colab": {
          "base_uri": "https://localhost:8080/",
          "height": 289
        },
        "outputId": "4e20059c-a6d4-4f9f-9ed9-1c922929f3a7"
      },
      "cell_type": "code",
      "source": [
        "print(train.describe(include=['object']))\n",
        "train.head()"
      ],
      "execution_count": 11,
      "outputs": [
        {
          "output_type": "stream",
          "text": [
            "          cut  color clarity\n",
            "count   40455  40455   40455\n",
            "unique      5      7       8\n",
            "top     Ideal      G     SI1\n",
            "freq    16226   8382    9791\n"
          ],
          "name": "stdout"
        },
        {
          "output_type": "execute_result",
          "data": {
            "text/html": [
              "<div>\n",
              "<style scoped>\n",
              "    .dataframe tbody tr th:only-of-type {\n",
              "        vertical-align: middle;\n",
              "    }\n",
              "\n",
              "    .dataframe tbody tr th {\n",
              "        vertical-align: top;\n",
              "    }\n",
              "\n",
              "    .dataframe thead th {\n",
              "        text-align: right;\n",
              "    }\n",
              "</style>\n",
              "<table border=\"1\" class=\"dataframe\">\n",
              "  <thead>\n",
              "    <tr style=\"text-align: right;\">\n",
              "      <th></th>\n",
              "      <th>carat</th>\n",
              "      <th>cut</th>\n",
              "      <th>color</th>\n",
              "      <th>clarity</th>\n",
              "      <th>depth</th>\n",
              "      <th>table</th>\n",
              "      <th>price</th>\n",
              "      <th>x</th>\n",
              "      <th>y</th>\n",
              "      <th>z</th>\n",
              "    </tr>\n",
              "  </thead>\n",
              "  <tbody>\n",
              "    <tr>\n",
              "      <th>441</th>\n",
              "      <td>0.89</td>\n",
              "      <td>Premium</td>\n",
              "      <td>H</td>\n",
              "      <td>SI2</td>\n",
              "      <td>60.2</td>\n",
              "      <td>59.0</td>\n",
              "      <td>2815</td>\n",
              "      <td>6.26</td>\n",
              "      <td>6.23</td>\n",
              "      <td>3.76</td>\n",
              "    </tr>\n",
              "    <tr>\n",
              "      <th>50332</th>\n",
              "      <td>0.70</td>\n",
              "      <td>Very Good</td>\n",
              "      <td>D</td>\n",
              "      <td>SI1</td>\n",
              "      <td>64.0</td>\n",
              "      <td>53.0</td>\n",
              "      <td>2242</td>\n",
              "      <td>5.57</td>\n",
              "      <td>5.61</td>\n",
              "      <td>3.58</td>\n",
              "    </tr>\n",
              "    <tr>\n",
              "      <th>35652</th>\n",
              "      <td>0.31</td>\n",
              "      <td>Ideal</td>\n",
              "      <td>G</td>\n",
              "      <td>VVS2</td>\n",
              "      <td>62.7</td>\n",
              "      <td>57.0</td>\n",
              "      <td>907</td>\n",
              "      <td>4.33</td>\n",
              "      <td>4.31</td>\n",
              "      <td>2.71</td>\n",
              "    </tr>\n",
              "    <tr>\n",
              "      <th>9439</th>\n",
              "      <td>0.90</td>\n",
              "      <td>Very Good</td>\n",
              "      <td>H</td>\n",
              "      <td>VS1</td>\n",
              "      <td>62.3</td>\n",
              "      <td>59.0</td>\n",
              "      <td>4592</td>\n",
              "      <td>6.12</td>\n",
              "      <td>6.17</td>\n",
              "      <td>3.83</td>\n",
              "    </tr>\n",
              "    <tr>\n",
              "      <th>15824</th>\n",
              "      <td>1.01</td>\n",
              "      <td>Good</td>\n",
              "      <td>F</td>\n",
              "      <td>VS2</td>\n",
              "      <td>60.6</td>\n",
              "      <td>62.0</td>\n",
              "      <td>6332</td>\n",
              "      <td>6.52</td>\n",
              "      <td>6.49</td>\n",
              "      <td>3.94</td>\n",
              "    </tr>\n",
              "  </tbody>\n",
              "</table>\n",
              "</div>"
            ],
            "text/plain": [
              "       carat        cut color clarity  depth  table  price     x     y     z\n",
              "441     0.89    Premium     H     SI2   60.2   59.0   2815  6.26  6.23  3.76\n",
              "50332   0.70  Very Good     D     SI1   64.0   53.0   2242  5.57  5.61  3.58\n",
              "35652   0.31      Ideal     G    VVS2   62.7   57.0    907  4.33  4.31  2.71\n",
              "9439    0.90  Very Good     H     VS1   62.3   59.0   4592  6.12  6.17  3.83\n",
              "15824   1.01       Good     F     VS2   60.6   62.0   6332  6.52  6.49  3.94"
            ]
          },
          "metadata": {
            "tags": []
          },
          "execution_count": 11
        }
      ]
    },
    {
      "metadata": {
        "id": "TIXv73RmQIOy",
        "colab_type": "code",
        "colab": {}
      },
      "cell_type": "code",
      "source": [
        "# Encode the cut ranks as integers\n",
        "train.cut = train.cut.map(cut_ranks)\n",
        "test.cut = test.cut.map(cut_ranks)\n",
        "\n",
        "# Encode the clarity ranks as integers\n",
        "clarity_rank = {\"IF\":0,\"VVS1\":1, \"VVS2\":2,\"VS1\":3, \"VS2\":4,\"SI1\":5, \"SI2\":6, \"I1\":7}\n",
        "train.clarity = train.clarity.map(clarity_rank)\n",
        "test.clarity = test.clarity.map(clarity_rank)\n",
        "\n",
        "# Encode the color ranks as integers\n",
        "color_rank = {\"J\":7, \"I\":6, \"H\":5, \"G\":4, \"F\":3, \"E\":2, \"D\":1 }\n",
        "train.color = train.color.map(color_rank)\n",
        "test.color = test.color.map(color_rank)"
      ],
      "execution_count": 0,
      "outputs": []
    },
    {
      "metadata": {
        "id": "Dy7NS7l_WSyO",
        "colab_type": "code",
        "colab": {
          "base_uri": "https://localhost:8080/",
          "height": 204
        },
        "outputId": "7412debb-0112-450c-b6c6-bdcebdee4dcb"
      },
      "cell_type": "code",
      "source": [
        "train.head()"
      ],
      "execution_count": 13,
      "outputs": [
        {
          "output_type": "execute_result",
          "data": {
            "text/html": [
              "<div>\n",
              "<style scoped>\n",
              "    .dataframe tbody tr th:only-of-type {\n",
              "        vertical-align: middle;\n",
              "    }\n",
              "\n",
              "    .dataframe tbody tr th {\n",
              "        vertical-align: top;\n",
              "    }\n",
              "\n",
              "    .dataframe thead th {\n",
              "        text-align: right;\n",
              "    }\n",
              "</style>\n",
              "<table border=\"1\" class=\"dataframe\">\n",
              "  <thead>\n",
              "    <tr style=\"text-align: right;\">\n",
              "      <th></th>\n",
              "      <th>carat</th>\n",
              "      <th>cut</th>\n",
              "      <th>color</th>\n",
              "      <th>clarity</th>\n",
              "      <th>depth</th>\n",
              "      <th>table</th>\n",
              "      <th>price</th>\n",
              "      <th>x</th>\n",
              "      <th>y</th>\n",
              "      <th>z</th>\n",
              "    </tr>\n",
              "  </thead>\n",
              "  <tbody>\n",
              "    <tr>\n",
              "      <th>441</th>\n",
              "      <td>0.89</td>\n",
              "      <td>4</td>\n",
              "      <td>5</td>\n",
              "      <td>6</td>\n",
              "      <td>60.2</td>\n",
              "      <td>59.0</td>\n",
              "      <td>2815</td>\n",
              "      <td>6.26</td>\n",
              "      <td>6.23</td>\n",
              "      <td>3.76</td>\n",
              "    </tr>\n",
              "    <tr>\n",
              "      <th>50332</th>\n",
              "      <td>0.70</td>\n",
              "      <td>3</td>\n",
              "      <td>1</td>\n",
              "      <td>5</td>\n",
              "      <td>64.0</td>\n",
              "      <td>53.0</td>\n",
              "      <td>2242</td>\n",
              "      <td>5.57</td>\n",
              "      <td>5.61</td>\n",
              "      <td>3.58</td>\n",
              "    </tr>\n",
              "    <tr>\n",
              "      <th>35652</th>\n",
              "      <td>0.31</td>\n",
              "      <td>5</td>\n",
              "      <td>4</td>\n",
              "      <td>2</td>\n",
              "      <td>62.7</td>\n",
              "      <td>57.0</td>\n",
              "      <td>907</td>\n",
              "      <td>4.33</td>\n",
              "      <td>4.31</td>\n",
              "      <td>2.71</td>\n",
              "    </tr>\n",
              "    <tr>\n",
              "      <th>9439</th>\n",
              "      <td>0.90</td>\n",
              "      <td>3</td>\n",
              "      <td>5</td>\n",
              "      <td>3</td>\n",
              "      <td>62.3</td>\n",
              "      <td>59.0</td>\n",
              "      <td>4592</td>\n",
              "      <td>6.12</td>\n",
              "      <td>6.17</td>\n",
              "      <td>3.83</td>\n",
              "    </tr>\n",
              "    <tr>\n",
              "      <th>15824</th>\n",
              "      <td>1.01</td>\n",
              "      <td>2</td>\n",
              "      <td>3</td>\n",
              "      <td>4</td>\n",
              "      <td>60.6</td>\n",
              "      <td>62.0</td>\n",
              "      <td>6332</td>\n",
              "      <td>6.52</td>\n",
              "      <td>6.49</td>\n",
              "      <td>3.94</td>\n",
              "    </tr>\n",
              "  </tbody>\n",
              "</table>\n",
              "</div>"
            ],
            "text/plain": [
              "       carat  cut  color  clarity  depth  table  price     x     y     z\n",
              "441     0.89    4      5        6   60.2   59.0   2815  6.26  6.23  3.76\n",
              "50332   0.70    3      1        5   64.0   53.0   2242  5.57  5.61  3.58\n",
              "35652   0.31    5      4        2   62.7   57.0    907  4.33  4.31  2.71\n",
              "9439    0.90    3      5        3   62.3   59.0   4592  6.12  6.17  3.83\n",
              "15824   1.01    2      3        4   60.6   62.0   6332  6.52  6.49  3.94"
            ]
          },
          "metadata": {
            "tags": []
          },
          "execution_count": 13
        }
      ]
    },
    {
      "metadata": {
        "id": "ZUiQCTdQmyXi",
        "colab_type": "code",
        "outputId": "9a0af539-cb6e-4a08-d6c6-61a18d40dbed",
        "colab": {
          "base_uri": "https://localhost:8080/",
          "height": 51
        }
      },
      "cell_type": "code",
      "source": [
        "features = ['carat', 'cut', 'color', 'clarity']\n",
        "# to_append = ['x', 'y', 'z', 'depth', 'table']\n",
        "# [features.append(this) for this in to_append]\n",
        "target = ['price']\n",
        "model = KNeighborsRegressor()\n",
        "model.fit(train[features], train[target])\n",
        "\n",
        "# Calculate the mean absolute error on the training and test data\n",
        "y_true = train[target]\n",
        "y_pred = model.predict(train[features])\n",
        "train_error = mean_absolute_error(y_true, y_pred)\n",
        "\n",
        "y_true = test[target]\n",
        "y_pred = model.predict(test[features])\n",
        "test_error = mean_absolute_error(y_true, y_pred)\n",
        "\n",
        "# Print the training and test errors\n",
        "print('Training error: $', round(train_error))\n",
        "print('Test error: $', round(test_error))"
      ],
      "execution_count": 14,
      "outputs": [
        {
          "output_type": "stream",
          "text": [
            "Training error: $ 281.0\n",
            "Test error: $ 338.0\n"
          ],
          "name": "stdout"
        }
      ]
    },
    {
      "metadata": {
        "id": "_wAoZ1plQYVc",
        "colab_type": "code",
        "colab": {}
      },
      "cell_type": "code",
      "source": [
        ""
      ],
      "execution_count": 0,
      "outputs": []
    }
  ]
}