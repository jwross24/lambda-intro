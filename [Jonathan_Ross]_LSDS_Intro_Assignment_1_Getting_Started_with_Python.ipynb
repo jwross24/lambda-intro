{
  "nbformat": 4,
  "nbformat_minor": 0,
  "metadata": {
    "colab": {
      "name": "[Jonathan Ross] LSDS Intro Assignment 1 - Getting Started with Python.ipynb",
      "version": "0.3.2",
      "provenance": [],
      "collapsed_sections": [],
      "include_colab_link": true
    },
    "kernelspec": {
      "name": "python3",
      "display_name": "Python 3"
    }
  },
  "cells": [
    {
      "cell_type": "markdown",
      "metadata": {
        "id": "view-in-github",
        "colab_type": "text"
      },
      "source": [
        "<a href=\"https://colab.research.google.com/github/jwross24/lambda-intro/blob/master/[Jonathan_Ross]_LSDS_Intro_Assignment_1_Getting_Started_with_Python.ipynb\" target=\"_parent\"><img src=\"https://colab.research.google.com/assets/colab-badge.svg\" alt=\"Open In Colab\"/></a>"
      ]
    },
    {
      "metadata": {
        "id": "51dZwqDNc9x6",
        "colab_type": "text"
      },
      "cell_type": "markdown",
      "source": [
        "# Lambda School Data Science - Getting Started with Python\n",
        "\n",
        "Following are exercises you should complete after watching the first intro lecture. Workflow:\n",
        "\n",
        "1. Sign in to a Google account\n",
        "2. Copy the notebook (`File` -> `Save a copy in Drive`)\n",
        "3. Complete the exercises! This means fill out the code cells, and run them (shift-enter or click the play button that appears when you're in one of them)\n",
        "4. Take a look at your work, and write comments/add text cells as appropriate to explain\n",
        "5. Make the notebook URL viewable and submit with the standup form"
      ]
    },
    {
      "metadata": {
        "id": "I6biutgwdgpb",
        "colab_type": "text"
      },
      "cell_type": "markdown",
      "source": [
        "## Exercise 1 - A bit of Math\n",
        "\n",
        "For these \"word\" problems, use Python to clearly solve them. Your code will \"show your work\" - use good variable names! To show your answers you should write a `print()` statement at the end.\n",
        "\n",
        "As you work, follow the **20 minute rule** - that means if you're stuck on something for 20 minutes, you should ask a question!\n",
        "\n",
        "### a) It's a gas\n",
        "\n",
        "A taxi driver is calculating their profit over two weeks by adding up the fares they charge and subtracting the cost of gas. The price of gas changes over time - it was `$3.52`/gallon the first week and `$3.57`/gallon this second week. Their car gets 20 miles per gallon.\n",
        "\n",
        "For the first week the driver had a total of 23 passengers with average `$29` fare each, and drove a total of 160 miles. For the second week they had 17 passengers with average `$30` fare each, and drove a total of 220 miles. Assume that for both weeks they purchase all the gas needed during that week (i.e. they refuel every week to maintain a constant level of gas in the tank).\n",
        "\n",
        "Based on the above, answer the following questions:\n",
        "\n",
        "- What is their total profit over both weeks?\n",
        "- During which week was their average (mean) profit per passenger higher?\n"
      ]
    },
    {
      "metadata": {
        "id": "CWJeYQW6AoGf",
        "colab_type": "code",
        "colab": {
          "base_uri": "https://localhost:8080/",
          "height": 51
        },
        "outputId": "fb00495f-c50b-491f-809b-61d81614aee7"
      },
      "cell_type": "code",
      "source": [
        "# Assign all the relevant variables for the values in the problem\n",
        "GAS_PRICE = (3.52, 3.57)\n",
        "MPG = 20\n",
        "PASSENGERS = (23, 17)\n",
        "MEAN_FARE = (29, 30)\n",
        "MILES = (160, 220)\n",
        "\n",
        "# Calculate the profits for each week\n",
        "profit = [0, 0]\n",
        "for i in range(2):\n",
        "  profit[i] = PASSENGERS[i] * MEAN_FARE[i] - (MILES[i] / MPG) * GAS_PRICE[i]\n",
        "\n",
        "# Calculate the total profit and print the string\n",
        "total_profit = round(sum(profit), 2)\n",
        "print(\"The total profit over both weeks is ${}.\".format(total_profit))\n",
        "\n",
        "# Determine which week's profit per passenger was higher\n",
        "mean_profit = [0, 0]\n",
        "for i in range(0,2):\n",
        "  mean_profit[i] = round(profit[i] / PASSENGERS[i], 2)  # round to avoid floating point errors\n",
        "\n",
        "if mean_profit[0] > mean_profit[1]:\n",
        "  print(\"The mean profit per passenger was higher in week 1.\")\n",
        "elif mean_profit[1] > mean_profit[0]:\n",
        "  print(\"The mean profit per passenger was higher in week 2.\")\n",
        "else:\n",
        "  print(\"The mean profit per passenger was the same in both weeks.\")"
      ],
      "execution_count": 1,
      "outputs": [
        {
          "output_type": "stream",
          "text": [
            "The total profit over both weeks is $1109.57.\n",
            "The mean profit per passenger was higher in week 1.\n"
          ],
          "name": "stdout"
        }
      ]
    },
    {
      "metadata": {
        "id": "0l4bUPHmR5Ko",
        "colab_type": "text"
      },
      "cell_type": "markdown",
      "source": [
        "### b) Mo' money...\n",
        "\n",
        "A cash drawer contains 160 bills, all 10s and 50s. The total value of the 10s and 50s is $1,760.\n",
        "\n",
        "How many of each type of bill are in the drawer? You can figure this out by trial and error (or by doing algebra with pencil and paper), but try to use loops and conditionals to check a plausible possibilities and stop when you find the correct one."
      ]
    },
    {
      "metadata": {
        "id": "Q2Atz_kyR8_6",
        "colab_type": "code",
        "colab": {
          "base_uri": "https://localhost:8080/",
          "height": 34
        },
        "outputId": "f74b3f25-6529-4fc8-f2e6-960fe3a2e945"
      },
      "cell_type": "code",
      "source": [
        "# TODO your code here!\n",
        "total_value = 1760\n",
        "num_bills = 160\n",
        "for tens in range(num_bills + 1):\n",
        "  fifties = num_bills - tens\n",
        "  if tens*10 + fifties*50 == total_value:\n",
        "    format_spec = 'The cash drawer contains {0} $10 bills and {1} $50 bills.'\n",
        "    print(format_spec.format(tens, fifties))\n",
        "    break\n",
        "  if tens == num_bills:\n",
        "    print('There is no possible combination with this number of bills.')\n",
        "    "
      ],
      "execution_count": 11,
      "outputs": [
        {
          "output_type": "stream",
          "text": [
            "The cash drawer contains 156 $10 bills and 4 $50 bills.\n"
          ],
          "name": "stdout"
        }
      ]
    },
    {
      "metadata": {
        "id": "UCFtX_q9aQlc",
        "colab_type": "text"
      },
      "cell_type": "markdown",
      "source": [
        "## Exercise 2 - Drawing a plot\n",
        "\n",
        "Use NumPy and Matplotlib to draw a scatterplot of uniform random `(x, y)` values all drawn from the `[0, 1]` interval. Helpful documentation:\n",
        "\n",
        "*   https://matplotlib.org/tutorials/index.html\n",
        "*   https://docs.scipy.org/doc/numpy/user/quickstart.html\n",
        "\n",
        "Stretch goal - draw more plots! You can refer to the [Matplotlib gallery](https://matplotlib.org/gallery.html) for inspiration, but don't just reproduce something - try to apply it to your own data.\n",
        "\n",
        "How to get data? There's *many* ways, but a good place to get started is with [sklearn.datasets](http://scikit-learn.org/stable/datasets/index.html):\n",
        "\n",
        "```\n",
        "from sklearn import datasets\n",
        "dir(datasets)\n",
        "```"
      ]
    },
    {
      "metadata": {
        "id": "pNEb09gMaltL",
        "colab_type": "code",
        "colab": {
          "base_uri": "https://localhost:8080/",
          "height": 347
        },
        "outputId": "467723ea-af51-423a-fedb-586c7c96be79"
      },
      "cell_type": "code",
      "source": [
        "import matplotlib.pyplot as plt\n",
        "import numpy as np\n",
        "\n",
        "np.random.seed(42)\n",
        "data = np.random.uniform(size=200)\n",
        "x_data = data[:100]\n",
        "y_data = data[100:]\n",
        "plt.scatter(x_data, y_data)\n",
        "plt.show()"
      ],
      "execution_count": 17,
      "outputs": [
        {
          "output_type": "display_data",
          "data": {
            "image/png": "[encoded data removed]",
            "text/plain": [
              "<matplotlib.figure.Figure at 0x7f3856b1b2b0>"
            ]
          },
          "metadata": {
            "tags": []
          }
        }
      ]
    },
    {
      "metadata": {
        "id": "KIHU4IT9z_wx",
        "colab_type": "code",
        "colab": {
          "base_uri": "https://localhost:8080/",
          "height": 1241
        },
        "outputId": "1780ad81-201b-4196-c0e2-52b409cea42c"
      },
      "cell_type": "code",
      "source": [
        "from sklearn import datasets\n",
        "dir(datasets)"
      ],
      "execution_count": 7,
      "outputs": [
        {
          "output_type": "execute_result",
          "data": {
            "text/plain": [
              "['__all__',\n",
              " '__builtins__',\n",
              " '__cached__',\n",
              " '__doc__',\n",
              " '__file__',\n",
              " '__loader__',\n",
              " '__name__',\n",
              " '__package__',\n",
              " '__path__',\n",
              " '__spec__',\n",
              " '_svmlight_format',\n",
              " 'base',\n",
              " 'california_housing',\n",
              " 'clear_data_home',\n",
              " 'covtype',\n",
              " 'dump_svmlight_file',\n",
              " 'fetch_20newsgroups',\n",
              " 'fetch_20newsgroups_vectorized',\n",
              " 'fetch_california_housing',\n",
              " 'fetch_covtype',\n",
              " 'fetch_kddcup99',\n",
              " 'fetch_lfw_pairs',\n",
              " 'fetch_lfw_people',\n",
              " 'fetch_mldata',\n",
              " 'fetch_olivetti_faces',\n",
              " 'fetch_rcv1',\n",
              " 'fetch_species_distributions',\n",
              " 'get_data_home',\n",
              " 'kddcup99',\n",
              " 'lfw',\n",
              " 'load_boston',\n",
              " 'load_breast_cancer',\n",
              " 'load_diabetes',\n",
              " 'load_digits',\n",
              " 'load_files',\n",
              " 'load_iris',\n",
              " 'load_linnerud',\n",
              " 'load_mlcomp',\n",
              " 'load_sample_image',\n",
              " 'load_sample_images',\n",
              " 'load_svmlight_file',\n",
              " 'load_svmlight_files',\n",
              " 'load_wine',\n",
              " 'make_biclusters',\n",
              " 'make_blobs',\n",
              " 'make_checkerboard',\n",
              " 'make_circles',\n",
              " 'make_classification',\n",
              " 'make_friedman1',\n",
              " 'make_friedman2',\n",
              " 'make_friedman3',\n",
              " 'make_gaussian_quantiles',\n",
              " 'make_hastie_10_2',\n",
              " 'make_low_rank_matrix',\n",
              " 'make_moons',\n",
              " 'make_multilabel_classification',\n",
              " 'make_regression',\n",
              " 'make_s_curve',\n",
              " 'make_sparse_coded_signal',\n",
              " 'make_sparse_spd_matrix',\n",
              " 'make_sparse_uncorrelated',\n",
              " 'make_spd_matrix',\n",
              " 'make_swiss_roll',\n",
              " 'mlcomp',\n",
              " 'mldata',\n",
              " 'mldata_filename',\n",
              " 'olivetti_faces',\n",
              " 'rcv1',\n",
              " 'samples_generator',\n",
              " 'species_distributions',\n",
              " 'svmlight_format',\n",
              " 'twenty_newsgroups']"
            ]
          },
          "metadata": {
            "tags": []
          },
          "execution_count": 7
        }
      ]
    },
    {
      "metadata": {
        "id": "CP3BxBn10xgr",
        "colab_type": "code",
        "colab": {
          "base_uri": "https://localhost:8080/",
          "height": 361
        },
        "outputId": "0e80b6e3-71fb-47df-eda2-9e85592745e1"
      },
      "cell_type": "code",
      "source": [
        "iris = datasets.load_iris()\n",
        "X = iris.data[:, 2:]  # use only the last two features of the dataset\n",
        "y = iris.target\n",
        "\n",
        "\n",
        "# Define plot axes\n",
        "x_min = X[:, 0].min() - 0.5\n",
        "x_max = X[:, 0].max() + 0.5\n",
        "y_min = X[:, 1].min() - 0.5\n",
        "y_max = X[:, 1].max() + 0.5\n",
        "\n",
        "# Plot figure and label axes\n",
        "plt.figure()\n",
        "plt.clf()\n",
        "plt.scatter(X[:, 0], X[:, 1], c=y, cmap=plt.cm.Set1, edgecolor='k')\n",
        "plt.xlabel('Petal length (cm)')\n",
        "plt.ylabel('Petal width (cm)')\n",
        "\n",
        "# Set plot axes\n",
        "plt.xlim(x_min, x_max)\n",
        "plt.ylim(y_min, y_max)\n",
        "plt.xticks(())\n",
        "plt.yticks(())"
      ],
      "execution_count": 26,
      "outputs": [
        {
          "output_type": "execute_result",
          "data": {
            "text/plain": [
              "([], <a list of 0 Text yticklabel objects>)"
            ]
          },
          "metadata": {
            "tags": []
          },
          "execution_count": 26
        },
        {
          "output_type": "display_data",
          "data": {
            "image/png": "[encoded data removed]",
            "text/plain": [
              "<matplotlib.figure.Figure at 0x7f3856a7a4a8>"
            ]
          },
          "metadata": {
            "tags": []
          }
        }
      ]
    },
    {
      "metadata": {
        "id": "hGpFAslRhuem",
        "colab_type": "text"
      },
      "cell_type": "markdown",
      "source": [
        "## Exercise 3 - Writing a function\n",
        "Write a function that, given a list of numbers, calculates the mean, median, and mode of those numbers. Return a dictionary with properties for the mean, median and mode. \n",
        "\n",
        "For example:\n",
        "\n",
        "```\n",
        "mmm_dict = meanMedianMode([1, 2, 6, 7, 8, 9, 3, 4, 5, 10, 10])\n",
        "print(mmm_dict)\n",
        "> {'mean': 5.909090909090909, 'median': 6, 'mode': 10}\n",
        "```\n",
        "\n",
        "There are Python standard libraries that make calculating these numbers very easy, but first try your hand at implementing it using the `reduce()` function:"
      ]
    },
    {
      "metadata": {
        "id": "e8dmYzTmiXD_",
        "colab_type": "code",
        "colab": {
          "base_uri": "https://localhost:8080/",
          "height": 221
        },
        "outputId": "d2d33211-1f49-443e-a038-7b1b92f9c499"
      },
      "cell_type": "code",
      "source": [
        "from functools import reduce\n",
        "help(reduce)"
      ],
      "execution_count": 3,
      "outputs": [
        {
          "output_type": "stream",
          "text": [
            "Help on built-in function reduce in module _functools:\n",
            "\n",
            "reduce(...)\n",
            "    reduce(function, sequence[, initial]) -> value\n",
            "    \n",
            "    Apply a function of two arguments cumulatively to the items of a sequence,\n",
            "    from left to right, so as to reduce the sequence to a single value.\n",
            "    For example, reduce(lambda x, y: x+y, [1, 2, 3, 4, 5]) calculates\n",
            "    ((((1+2)+3)+4)+5).  If initial is present, it is placed before the items\n",
            "    of the sequence in the calculation, and serves as a default when the\n",
            "    sequence is empty.\n",
            "\n"
          ],
          "name": "stdout"
        }
      ]
    },
    {
      "metadata": {
        "id": "nmkk-CHvh0Nj",
        "colab_type": "code",
        "colab": {
          "base_uri": "https://localhost:8080/",
          "height": 34
        },
        "outputId": "68e67edd-07f0-4257-a9b8-f327f9cdeb4b"
      },
      "cell_type": "code",
      "source": [
        "from statistics import median, mode\n",
        "def meanMedianMode(numbers):\n",
        "    # TODO your code here!\n",
        "    num_mean = reduce(lambda x, y: x+y, numbers)/len(numbers)\n",
        "    num_median = median(numbers)\n",
        "    num_mode = mode(numbers)\n",
        "    return {\n",
        "        'mean': num_mean,\n",
        "        'median': num_median,\n",
        "        'mode': num_mode\n",
        "    }\n",
        "\n",
        "mmm_dict = meanMedianMode([1, 2, 6, 7, 8, 9, 3, 4, 5, 10, 10])\n",
        "print(mmm_dict)"
      ],
      "execution_count": 6,
      "outputs": [
        {
          "output_type": "stream",
          "text": [
            "{'mean': 5.909090909090909, 'median': 6, 'mode': 10}\n"
          ],
          "name": "stdout"
        }
      ]
    }
  ]
}