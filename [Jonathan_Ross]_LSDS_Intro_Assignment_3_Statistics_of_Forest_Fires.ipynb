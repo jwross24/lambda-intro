{
  "nbformat": 4,
  "nbformat_minor": 0,
  "metadata": {
    "colab": {
      "name": "[Jonathan Ross] LSDS Intro Assignment 3 - Statistics of Forest Fires.ipynb",
      "version": "0.3.2",
      "provenance": []
    },
    "kernelspec": {
      "name": "python3",
      "display_name": "Python 3"
    }
  },
  "cells": [
    {
      "metadata": {
        "id": "uKYVNFs44mfD",
        "colab_type": "text"
      },
      "cell_type": "markdown",
      "source": [
        "# Lambda School Data Science - Forest Fire Statistics\n",
        "\n",
        "![Forest fire](https://www.publicdomainpictures.net/pictures/220000/velka/forest-fire.jpg)\n",
        "\n",
        "Forest fires are a sadly timely topic, but data can help us better understand and perhaps manage them in future. In this assignment you'll look at a data set of forest fires in Portugal during 2007 - this is a real research dataset, and you can [read more about it](https://archive.ics.uci.edu/ml/datasets/Forest+Fires) though you do not need to for this assignment.\n",
        "\n",
        "For our purposes, the main thing that you need to understand are the attributes in the data.\n",
        "\n",
        "1. X - x-axis spatial coordinate within the Montesinho park map: 1 to 9\n",
        "2. Y - y-axis spatial coordinate within the Montesinho park map: 2 to 9\n",
        "3. month - month of the year: 'jan' to 'dec'\n",
        "4. day - day of the week: 'mon' to 'sun'\n",
        "5. FFMC - FFMC index from the FWI system: 18.7 to 96.20\n",
        "6. DMC - DMC index from the FWI system: 1.1 to 291.3\n",
        "7. DC - DC index from the FWI system: 7.9 to 860.6\n",
        "8. ISI - ISI index from the FWI system: 0.0 to 56.10\n",
        "9. temp - temperature in Celsius degrees: 2.2 to 33.30\n",
        "10. RH - relative humidity in %: 15.0 to 100\n",
        "11. wind - wind speed in km/h: 0.40 to 9.40\n",
        "12. rain - outside rain in mm/m2 : 0.0 to 6.4\n",
        "13. area - the burned area of the forest (in ha): 0.00 to 1090.84 \n",
        "\n",
        "Most of these features are numeric - this means we can do things like look at their mean, median, mode, and plot histograms. They have technical sounding names, but generally refer to meteorological data (i.e. the weather).\n",
        "\n",
        "For the discrete features we can still draw histograms (as in the lecture notebook). X and Y are already integer values - month and day do have natural order, but if you want to use them you may want to translate them from strings to numbers (hint - you can build a dict that maps them, and loop over to apply it)."
      ]
    },
    {
      "metadata": {
        "id": "2hdt1i4H6gQ2",
        "colab_type": "text"
      },
      "cell_type": "markdown",
      "source": [
        "## Exercise 1 - Load the data and take a peek\n",
        "\n",
        "The data is accessible as a CSV at the URL: https://archive.ics.uci.edu/ml/machine-learning-databases/forest-fires/forestfires.csv\n",
        "\n",
        "You want to load this into a dataframe, so you can then look at the variables and perform descriptive statistics.\n",
        "\n",
        "After you load it, verify that you've got it working by printing the first five rows of data."
      ]
    },
    {
      "metadata": {
        "id": "s1ZQrmPs282o",
        "colab_type": "code",
        "colab": {
          "base_uri": "https://localhost:8080/",
          "height": 442
        },
        "outputId": "233f198d-ce58-4d95-bac4-038fa0fe0932"
      },
      "cell_type": "code",
      "source": [
        "# Your code here!\n",
        "# Hint - look at the day 2 material for how to use pandas\n",
        "import pandas as pd\n",
        "df = pd.read_csv('https://archive.ics.uci.edu/ml/machine-learning-databases/forest-fires/forestfires.csv')\n",
        "print(df.dtypes)\n",
        "df.head()"
      ],
      "execution_count": 43,
      "outputs": [
        {
          "output_type": "stream",
          "text": [
            "X          int64\n",
            "Y          int64\n",
            "month     object\n",
            "day       object\n",
            "FFMC     float64\n",
            "DMC      float64\n",
            "DC       float64\n",
            "ISI      float64\n",
            "temp     float64\n",
            "RH         int64\n",
            "wind     float64\n",
            "rain     float64\n",
            "area     float64\n",
            "dtype: object\n"
          ],
          "name": "stdout"
        },
        {
          "output_type": "execute_result",
          "data": {
            "text/html": [
              "<div>\n",
              "<style scoped>\n",
              "    .dataframe tbody tr th:only-of-type {\n",
              "        vertical-align: middle;\n",
              "    }\n",
              "\n",
              "    .dataframe tbody tr th {\n",
              "        vertical-align: top;\n",
              "    }\n",
              "\n",
              "    .dataframe thead th {\n",
              "        text-align: right;\n",
              "    }\n",
              "</style>\n",
              "<table border=\"1\" class=\"dataframe\">\n",
              "  <thead>\n",
              "    <tr style=\"text-align: right;\">\n",
              "      <th></th>\n",
              "      <th>X</th>\n",
              "      <th>Y</th>\n",
              "      <th>month</th>\n",
              "      <th>day</th>\n",
              "      <th>FFMC</th>\n",
              "      <th>DMC</th>\n",
              "      <th>DC</th>\n",
              "      <th>ISI</th>\n",
              "      <th>temp</th>\n",
              "      <th>RH</th>\n",
              "      <th>wind</th>\n",
              "      <th>rain</th>\n",
              "      <th>area</th>\n",
              "    </tr>\n",
              "  </thead>\n",
              "  <tbody>\n",
              "    <tr>\n",
              "      <th>0</th>\n",
              "      <td>7</td>\n",
              "      <td>5</td>\n",
              "      <td>mar</td>\n",
              "      <td>fri</td>\n",
              "      <td>86.2</td>\n",
              "      <td>26.2</td>\n",
              "      <td>94.3</td>\n",
              "      <td>5.1</td>\n",
              "      <td>8.2</td>\n",
              "      <td>51</td>\n",
              "      <td>6.7</td>\n",
              "      <td>0.0</td>\n",
              "      <td>0.0</td>\n",
              "    </tr>\n",
              "    <tr>\n",
              "      <th>1</th>\n",
              "      <td>7</td>\n",
              "      <td>4</td>\n",
              "      <td>oct</td>\n",
              "      <td>tue</td>\n",
              "      <td>90.6</td>\n",
              "      <td>35.4</td>\n",
              "      <td>669.1</td>\n",
              "      <td>6.7</td>\n",
              "      <td>18.0</td>\n",
              "      <td>33</td>\n",
              "      <td>0.9</td>\n",
              "      <td>0.0</td>\n",
              "      <td>0.0</td>\n",
              "    </tr>\n",
              "    <tr>\n",
              "      <th>2</th>\n",
              "      <td>7</td>\n",
              "      <td>4</td>\n",
              "      <td>oct</td>\n",
              "      <td>sat</td>\n",
              "      <td>90.6</td>\n",
              "      <td>43.7</td>\n",
              "      <td>686.9</td>\n",
              "      <td>6.7</td>\n",
              "      <td>14.6</td>\n",
              "      <td>33</td>\n",
              "      <td>1.3</td>\n",
              "      <td>0.0</td>\n",
              "      <td>0.0</td>\n",
              "    </tr>\n",
              "    <tr>\n",
              "      <th>3</th>\n",
              "      <td>8</td>\n",
              "      <td>6</td>\n",
              "      <td>mar</td>\n",
              "      <td>fri</td>\n",
              "      <td>91.7</td>\n",
              "      <td>33.3</td>\n",
              "      <td>77.5</td>\n",
              "      <td>9.0</td>\n",
              "      <td>8.3</td>\n",
              "      <td>97</td>\n",
              "      <td>4.0</td>\n",
              "      <td>0.2</td>\n",
              "      <td>0.0</td>\n",
              "    </tr>\n",
              "    <tr>\n",
              "      <th>4</th>\n",
              "      <td>8</td>\n",
              "      <td>6</td>\n",
              "      <td>mar</td>\n",
              "      <td>sun</td>\n",
              "      <td>89.3</td>\n",
              "      <td>51.3</td>\n",
              "      <td>102.2</td>\n",
              "      <td>9.6</td>\n",
              "      <td>11.4</td>\n",
              "      <td>99</td>\n",
              "      <td>1.8</td>\n",
              "      <td>0.0</td>\n",
              "      <td>0.0</td>\n",
              "    </tr>\n",
              "  </tbody>\n",
              "</table>\n",
              "</div>"
            ],
            "text/plain": [
              "   X  Y month  day  FFMC   DMC     DC  ISI  temp  RH  wind  rain  area\n",
              "0  7  5   mar  fri  86.2  26.2   94.3  5.1   8.2  51   6.7   0.0   0.0\n",
              "1  7  4   oct  tue  90.6  35.4  669.1  6.7  18.0  33   0.9   0.0   0.0\n",
              "2  7  4   oct  sat  90.6  43.7  686.9  6.7  14.6  33   1.3   0.0   0.0\n",
              "3  8  6   mar  fri  91.7  33.3   77.5  9.0   8.3  97   4.0   0.2   0.0\n",
              "4  8  6   mar  sun  89.3  51.3  102.2  9.6  11.4  99   1.8   0.0   0.0"
            ]
          },
          "metadata": {
            "tags": []
          },
          "execution_count": 43
        }
      ]
    },
    {
      "metadata": {
        "id": "H82vSWGC6-Ui",
        "colab_type": "text"
      },
      "cell_type": "markdown",
      "source": [
        "## Exercise 2 - Explore and summarize the data\n",
        "\n",
        "Now that you've got the data, take a deeper look at it - the description above gives the overall range (from minimum to maximum), but look at the other core statistics. You should pick three variables you want to look at - two continuous, and one discrete, and for each you should calculate the mean and median.\n",
        "\n",
        "Don't use the magic built-in functions of pandas or other libraries - write your own functions to calculate mean and median (you can of course refer to the lecture notebooks for help). This is a good exercise both to practice coding and reinforce the statistical concepts.\n",
        "\n",
        "For each of the three variables you look at, answer the following questions (as comments in your code):\n",
        "\n",
        "- Is the median larger or smaller than the mean?\n",
        "- What does that tell you about how the variable is distributed?\n",
        "- (For the discrete variable only) What is the mode?\n",
        "\n",
        "Hint - it may help to draw a histogram to look at the variable and really get a feel for it.\n",
        "\n",
        "Another hint - part of this exercise is making sure you can distinguish between continuous and discrete variables, so take some time to think through your choice of variables."
      ]
    },
    {
      "metadata": {
        "id": "Jdsvuj8n8Kic",
        "colab_type": "code",
        "colab": {
          "base_uri": "https://localhost:8080/",
          "height": 466
        },
        "outputId": "94d88ad1-761f-4d76-c9ab-3eee23ff6cff"
      },
      "cell_type": "code",
      "source": [
        "# Your code here!\n",
        "# Remember, you should write your own code to calculate mean, median, and mode\n",
        "# If you want, you can doublecheck your answer with pandas methods afterwards\n",
        "# And if you want to draw a histogram, you should use:\n",
        "# from matplotlib.pyplot import hist\n",
        "from matplotlib.pyplot import hist\n",
        "import numpy as np\n",
        "from scipy.stats import mode\n",
        "\n",
        "def my_mean(numbers):\n",
        "  return sum(numbers) / len(numbers)\n",
        "\n",
        "def my_median(numbers):\n",
        "  sorted_numbers = sorted(numbers)\n",
        "  middle = len(numbers) // 2\n",
        "  if len(numbers) % 2 == 1:\n",
        "    return sorted_numbers[middle]\n",
        "  else:\n",
        "    return my_mean(sorted_numbers[middle:middle+2])\n",
        "\n",
        "def my_mode(numbers):\n",
        "  counts = {}\n",
        "  for item in numbers:\n",
        "    if item in counts:\n",
        "      counts[item] += 1\n",
        "    else:\n",
        "      counts[item] = 1\n",
        "  \n",
        "  return max(counts, key = lambda key: counts[key])\n",
        "\n",
        "# Input a dataframe and a list of variable strings from the dataframe, \n",
        "# receive the mean and median for each entry, and the mode if the variable is\n",
        "# discrete.\n",
        "def var_stats(data, data_form, variables, use_my_functions=True):\n",
        "  means, medians, modes = {}, {}, {}\n",
        "  if data_form == 'df':\n",
        "    for var in variables:\n",
        "      if use_my_functions:\n",
        "        means[var] = my_mean(data[var])\n",
        "        medians[var] = my_median(data[var])\n",
        "        if data[var].dtype == np.int64:\n",
        "          modes[var] = my_mode(data[var])\n",
        "      else:\n",
        "        means[var] = np.mean(data[var])\n",
        "        medians[var] = np.median(data[var])\n",
        "        if data[var].dtype == np.int64:\n",
        "          modes[var] = mode(data[var])\n",
        "          \n",
        "  if data_form == 'list':\n",
        "    for i in range(len(data)):\n",
        "      if use_my_functions:\n",
        "        means[variables[i]] = my_mean(data[i])\n",
        "        medians[variables[i]] = my_median(data[i])\n",
        "        if isinstance(data[i][0], np.int64):\n",
        "          modes[variables[i]] = my_mode(data[i])\n",
        "      else:\n",
        "        means[variables[i]] = np.mean(data[i])\n",
        "        medians[variables[i]] = np.median(data[i])\n",
        "        if isinstance(data[i][0], np.int64):\n",
        "          modes[variables[i]] = mode(data[i])\n",
        "      \n",
        "  return means, medians, modes\n",
        "\n",
        "columns = ['DC', 'temp', 'RH']\n",
        "means, medians, modes = var_stats(df, 'df', columns)\n",
        "\n",
        "print(means)\n",
        "print(medians)\n",
        "# For variables DC and temp, the median is larger than the mean, which indicates\n",
        "# some right-skewness of the data. However, DC is heavily skewed, and temp seems\n",
        "# to be very slightly skewed because the mean and median are very similar.\n",
        "# For variable RH, the median is smaller than the mean, indicating left-skewed\n",
        "# data. However, the histogram really shows the story: the peak of the data is \n",
        "# far left of center.\n",
        "print(modes)\n",
        "# The mode for the relative humidity is 27%.\n",
        "\n",
        "hist(df[variables[0]])"
      ],
      "execution_count": 44,
      "outputs": [
        {
          "output_type": "stream",
          "text": [
            "{'DC': 547.9400386847191, 'temp': 18.88916827852998, 'RH': 44.28820116054158}\n",
            "{'DC': 664.2, 'temp': 19.3, 'RH': 42}\n",
            "{'RH': 27}\n"
          ],
          "name": "stdout"
        },
        {
          "output_type": "execute_result",
          "data": {
            "text/plain": [
              "(array([ 67.,  21.,   6.,  10.,  25.,  22.,  40., 136., 151.,  39.]),\n",
              " array([  7.9 ,  93.17, 178.44, 263.71, 348.98, 434.25, 519.52, 604.79,\n",
              "        690.06, 775.33, 860.6 ]),\n",
              " <a list of 10 Patch objects>)"
            ]
          },
          "metadata": {
            "tags": []
          },
          "execution_count": 44
        },
        {
          "output_type": "display_data",
          "data": {
            "image/png": "[encoded data removed]",
            "text/plain": [
              "<matplotlib.figure.Figure at 0x7fb4b1adf978>"
            ]
          },
          "metadata": {
            "tags": []
          }
        }
      ]
    },
    {
      "metadata": {
        "id": "CeGKSya7G6Vh",
        "colab_type": "code",
        "colab": {
          "base_uri": "https://localhost:8080/",
          "height": 415
        },
        "outputId": "a4e666aa-45a1-4763-93fb-ef65fb866bef"
      },
      "cell_type": "code",
      "source": [
        "hist(df[variables[1]])"
      ],
      "execution_count": 16,
      "outputs": [
        {
          "output_type": "execute_result",
          "data": {
            "text/plain": [
              "(array([ 18.,  11.,  31.,  47.,  92., 127.,  99.,  55.,  24.,  13.]),\n",
              " array([ 2.2 ,  5.31,  8.42, 11.53, 14.64, 17.75, 20.86, 23.97, 27.08,\n",
              "        30.19, 33.3 ]),\n",
              " <a list of 10 Patch objects>)"
            ]
          },
          "metadata": {
            "tags": []
          },
          "execution_count": 16
        },
        {
          "output_type": "display_data",
          "data": {
            "image/png": "[encoded data removed]",
            "text/plain": [
              "<matplotlib.figure.Figure at 0x7fb4b47cb320>"
            ]
          },
          "metadata": {
            "tags": []
          }
        }
      ]
    },
    {
      "metadata": {
        "id": "0qvr9x90G7GW",
        "colab_type": "code",
        "colab": {
          "base_uri": "https://localhost:8080/",
          "height": 415
        },
        "outputId": "020a3c41-7264-4078-f92c-294f1fc7e7de"
      },
      "cell_type": "code",
      "source": [
        "hist(df[variables[2]])"
      ],
      "execution_count": 17,
      "outputs": [
        {
          "output_type": "execute_result",
          "data": {
            "text/plain": [
              "(array([ 21.,  96., 130., 104.,  63.,  40.,  31.,  20.,   7.,   5.]),\n",
              " array([ 15. ,  23.5,  32. ,  40.5,  49. ,  57.5,  66. ,  74.5,  83. ,\n",
              "         91.5, 100. ]),\n",
              " <a list of 10 Patch objects>)"
            ]
          },
          "metadata": {
            "tags": []
          },
          "execution_count": 17
        },
        {
          "output_type": "display_data",
          "data": {
            "image/png": "[encoded data removed]",
            "text/plain": [
              "<matplotlib.figure.Figure at 0x7fb4b1ddba20>"
            ]
          },
          "metadata": {
            "tags": []
          }
        }
      ]
    },
    {
      "metadata": {
        "id": "rMWYZKVX-HGM",
        "colab_type": "text"
      },
      "cell_type": "markdown",
      "source": [
        "## Exercise 3 - Simulate more data!\n",
        "\n",
        "There are many more things that could be done with this data, but for now we've not learned about hypothesis testing or inferential statistics. So, one fun thing to do is - make more data!\n",
        "\n",
        "How do we do that? We can use the same `random` module demonstrated in lecture, and repeatedly sample our data. This is related to the Monte Carlo method used to demonstrate the central limit theorem. In this setting, such simulations could then be applied to Bayesian methods - another topic for another time.\n",
        "\n",
        "For the same three variables that you looked at in exercise 2, you should do the following:\n",
        "\n",
        "1. Generate a *new* variable based on taking values at random from the original one - make the new variable have at least 10 times as many observations as the original\n",
        "2. Calculate the mean, median, and mode of the new variable (it's okay to use prewritten functions for this)\n",
        "3. Compare your results to what you saw in exercise 2 - it should be very similar\n",
        "\n",
        "Once you're done, look back at your code. Chances are you learned things as you wrote it, and you can revisit it to clean it up a bit. Maybe put pieces of code you use multiple times in a function, or add some explanatory comments so anyone reading (including \"future you\") has a clearer understanding of what you did."
      ]
    },
    {
      "metadata": {
        "id": "yExZ2S4W-xDG",
        "colab_type": "code",
        "colab": {
          "base_uri": "https://localhost:8080/",
          "height": 68
        },
        "outputId": "15f69857-8f57-48db-e7cc-68051ec3777f"
      },
      "cell_type": "code",
      "source": [
        "# Your code here!\n",
        "# You'll definitely want to import random\n",
        "# And you may find random.choice particularly helpful\n",
        "\n",
        "from random import choices\n",
        "\n",
        "def create_new_data(dataframe, variables, samples=1):\n",
        "  new_data = []\n",
        "  for var in variables:\n",
        "    new_data.append(choices(dataframe[var], k=samples))\n",
        "    \n",
        "  return new_data\n",
        "\n",
        "num_samples = 10*len(df[columns[0]])\n",
        "new_data = create_new_data(df, columns, samples=num_samples)\n",
        "new_means, new_medians, new_modes = var_stats(new_data, 'list', columns, \\\n",
        "                                              use_my_functions=False)\n",
        "\n",
        "print('The means are', new_means)\n",
        "print('The medians are', new_medians)\n",
        "print('The modes are', new_modes)"
      ],
      "execution_count": 45,
      "outputs": [
        {
          "output_type": "stream",
          "text": [
            "The means are {'DC': 548.6334235976789, 'temp': 19.052823984526114, 'RH': 44.2183752417795}\n",
            "The medians are {'DC': 661.8, 'temp': 19.4, 'RH': 42.0}\n",
            "The modes are {'RH': ModeResult(mode=array([27]), count=array([357]))}\n"
          ],
          "name": "stdout"
        }
      ]
    },
    {
      "metadata": {
        "id": "sj5RYe9yBlfh",
        "colab_type": "text"
      },
      "cell_type": "markdown",
      "source": [
        "## Exercise 4 (*Optional* \"stretch goal\") - Simulate a *lot* of data\n",
        "\n",
        "For *one* of the variables you've been looking at:\n",
        "\n",
        "1. Make an empty list `variablename_means`\n",
        "2. Use your code from exercise 3 to run a Monte Carlo simulation of 1000 experiments where you make a new simulated variable (hint - you'll need a loop)\n",
        "3. For each experiment, calculate the mean of the simulated variable, and append it to the list\n",
        "4. Plot the list as a histogram\n",
        "\n",
        "Once you've done the above, answer the question - how does the distribution of the histogram (of the means of a bunch of simulations of real data) look?"
      ]
    },
    {
      "metadata": {
        "id": "JKlXME96Tuqs",
        "colab_type": "code",
        "colab": {
          "base_uri": "https://localhost:8080/",
          "height": 432
        },
        "outputId": "e2a81fd1-7a6d-4af2-cbcd-332ac1fb6f5c"
      },
      "cell_type": "code",
      "source": [
        "# Your code here!\n",
        "# You can (and should) reuse logic/functions from earlier exercises\n",
        "DC_means = []\n",
        "for _ in range(1000):\n",
        "  new_DC = create_new_data(df, ['DC'], samples=num_samples)\n",
        "  current_mean = np.mean(new_DC[0])\n",
        "  DC_means.append(current_mean)\n",
        "\n",
        "hist(DC_means)\n",
        "\n",
        "# The histogram looks like a Normal distribution!"
      ],
      "execution_count": 54,
      "outputs": [
        {
          "output_type": "execute_result",
          "data": {
            "text/plain": [
              "(array([  4.,  26.,  64., 149., 228., 254., 177.,  74.,  19.,   5.]),\n",
              " array([536.2583559 , 538.54461315, 540.83087041, 543.11712766,\n",
              "        545.40338491, 547.68964217, 549.97589942, 552.26215667,\n",
              "        554.54841393, 556.83467118, 559.12092843]),\n",
              " <a list of 10 Patch objects>)"
            ]
          },
          "metadata": {
            "tags": []
          },
          "execution_count": 54
        },
        {
          "output_type": "display_data",
          "data": {
            "image/png": "[encoded data removed]",
            "text/plain": [
              "<matplotlib.figure.Figure at 0x7fb4affc5978>"
            ]
          },
          "metadata": {
            "tags": []
          }
        }
      ]
    }
  ]
}