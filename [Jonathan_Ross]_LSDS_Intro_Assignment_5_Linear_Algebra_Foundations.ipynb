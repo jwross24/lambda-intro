{
  "nbformat": 4,
  "nbformat_minor": 0,
  "metadata": {
    "colab": {
      "name": "[Jonathan Ross] LSDS Intro Assignment 5 - Linear Algebra Foundations.ipynb",
      "version": "0.3.2",
      "provenance": [],
      "collapsed_sections": []
    },
    "kernelspec": {
      "name": "python3",
      "display_name": "Python 3"
    }
  },
  "cells": [
    {
      "metadata": {
        "id": "C6GiJ7ixeOOU",
        "colab_type": "text"
      },
      "cell_type": "markdown",
      "source": [
        "#Intro to Data Science Assignment 5\n",
        "##Linear Algebra Foundations\n",
        "\n",
        "For the short answers:\n",
        "     Feel free to do any additional research, but try your best to answer the questions in your own words (don't copy/paste).\n",
        "     \n",
        "For the computations by hand:\n",
        "      If you'd like to use LaTex to make things pretty, by all means give it a try, but it is *optional*. You can answer the questions using algebraic-like notation. For instance if I was adding two vectors:\n",
        "      \n",
        "[1,2] + [2,3] => (1+2), (2+3) => [3,5] \n",
        "\n",
        "**Show your work, not just the answer**\n",
        "\n",
        "For the graphs:\n",
        "   Make them as pretty as you like\n",
        "   \n",
        " For using the tools (numpy):\n",
        "    Use labeled print statements as shown"
      ]
    },
    {
      "metadata": {
        "id": "yJJdtDoVeiYV",
        "colab_type": "text"
      },
      "cell_type": "markdown",
      "source": [
        "#Short Answer Questions\n",
        "\n",
        "1) Describe a vector\n",
        "\n",
        "2) Describe a matrix\n",
        "\n",
        "3) What can we do with vectors?\n",
        "\n",
        "4) What are basis vectors?\n",
        "\n",
        "5) What is an inverse matrix?\n",
        "\n",
        "6) What is the transpose of a matrix?\n"
      ]
    },
    {
      "metadata": {
        "id": "J2okSel_f1lS",
        "colab_type": "text"
      },
      "cell_type": "markdown",
      "source": [
        "##Your Answers go here:\n",
        "\n",
        "1) An $n$-dimensional vector is a list of values that represent where a point lies in $n$-dimensional space.\n",
        "\n",
        "2) A matrix is a numerical representation of the transformation from one shape to another. It is also a condensed form of linear systems when multiplied by a vector.\n",
        "\n",
        "3) We can add them, multiply them by a scalar, find their magnitude, find the inner product of two vectors, find the angle between them. We can do a lot!\n",
        "\n",
        "4) Basis vectors are $n$ vectors such that any linear combination of them can span the entire space $\\mathbb R^n$.\n",
        "\n",
        "5) An inverse matrix \"undoes\" matrix multiplication. For a matrix $A \\in \\mathbb R^{n \\times n}$, we have $$AA^{-1} = A^{-1}A = I_n.$$ The inverse matrix has a great application for directly solving for the solution vector in a linear system.\n",
        "\n",
        "6) The transpose of a matrix switches the rows and columns of a matrix by flipping the matrix over the main diagonal."
      ]
    },
    {
      "metadata": {
        "id": "Lb-jyiXZgHfH",
        "colab_type": "text"
      },
      "cell_type": "markdown",
      "source": [
        "#Computations by hand\n",
        "\n",
        "1) $ \\begin {bmatrix} 1 \\\\ 3 \\\\ 4 \\end {bmatrix} + \\begin {bmatrix} 4 \\\\ 2 \\\\ 6 \\end {bmatrix} $\n",
        "\n",
        "2) $ 5 \\begin {bmatrix} 1 \\\\ 2 \\\\ 3 \\end{bmatrix} $\n",
        "\n",
        "3) $ \\begin {bmatrix} 1  &  3\\\\ 2 & 3  \\end{bmatrix} \\begin {bmatrix} 1 \\\\ 2 \\end{bmatrix} $\n",
        "\n",
        "4) $ \\begin {bmatrix} 1  &  3\\\\ 2 & 3 \\end{bmatrix} \\begin {bmatrix} 2 & 2 \\\\ 3 & 1 \\end{bmatrix} $\n",
        "\n",
        "5) What is the transpose of :\n",
        "\n",
        "$ \\begin{bmatrix} 1 & 4 \\\\ 2 & 5 \\\\ 3 & 6 \\end{bmatrix} $ \n",
        "\n",
        "6) What is the determinant of:\n",
        "\n",
        " $\\begin {bmatrix} 2 & 2 \\\\ 3 & 1 \\end{bmatrix}$\n",
        " \n",
        " 7) What is the inverse matrix of: \n",
        " \n",
        "  $\\begin {bmatrix} 3 & 2 \\\\ 1 & 2 \\end{bmatrix}$"
      ]
    },
    {
      "metadata": {
        "id": "LdnLfusWjcZQ",
        "colab_type": "text"
      },
      "cell_type": "markdown",
      "source": [
        "## Your Answers go here:\n",
        "\n",
        "1) $\\begin {bmatrix} 1 \\\\ 3 \\\\ 4 \\end {bmatrix} + \\begin {bmatrix} 4 \\\\ 2 \\\\ 6 \\end {bmatrix} = \\begin{bmatrix}1+4 \\\\ 3+2 \\\\ 4+6 \\end{bmatrix} = \\begin{bmatrix} 5 \\\\ 5 \\\\ 10 \\end{bmatrix}$\n",
        "\n",
        "2) $5 \\cdot \\begin {bmatrix} 1 \\\\ 2 \\\\ 3 \\end {bmatrix} = \\begin{bmatrix} 5 \\cdot 1 \\\\ 5 \\cdot 2 \\\\ 5 \\cdot 3 \\end{bmatrix} = \\begin{bmatrix} 5 \\\\ 10 \\\\ 15 \\end{bmatrix}$\n",
        "\n",
        "3) $\\begin {bmatrix} 1  &  3\\\\ 2 & 3  \\end{bmatrix} \\begin {bmatrix} 1 \\\\ 2 \\end{bmatrix} = \\begin{bmatrix} 1(1) + 3(2) \\\\ 2(1) + 3(2) \\end{bmatrix} = \\begin{bmatrix} 1 + 6 \\\\ 2 + 6 \\end{bmatrix} = \\begin{bmatrix} 7 \\\\ 8 \\end{bmatrix}$\n",
        "\n",
        "4) $ \\begin {bmatrix} 1  &  3\\\\ 2 & 3 \\end{bmatrix} \\begin {bmatrix} 2 & 2 \\\\ 3 & 1 \\end{bmatrix} = \\begin {bmatrix} 1(2) + 3(3) & 1(2) + 3(1) \\\\ 2(2) + 3(3) & 2(2) + 3(1) \\end{bmatrix} = \\begin {bmatrix} 2 + 9 & 2 + 2 \\\\ 4 + 9 & 4 + 3 \\end{bmatrix} = \\begin {bmatrix} 11 & 5 \\\\ 13 & 7 \\end{bmatrix}$\n",
        "\n",
        "5) $ \\begin{bmatrix} 1 & 4 \\\\ 2 & 5 \\\\ 3 & 6 \\end{bmatrix}^T = \\begin{bmatrix} 1 & 2 & 3 \\\\ 4 & 5 & 6 \\end{bmatrix} $ \n",
        "\n",
        "6) $\\det \\left( \\begin {bmatrix} 2 & 2 \\\\ 3 & 1 \\end{bmatrix} \\right) = 2(1) - 2(3) = 2 - 6 = -4$\n",
        "\n",
        "7) $\\det \\left( \\begin{bmatrix} 3 & 2 \\\\ 1 & 2 \\end{bmatrix} \\right) = 4$, so $\\begin {bmatrix} 3 & 2 \\\\ 1 & 2 \\end{bmatrix}^{-1} = \\frac{1}{4} \\begin{bmatrix} 2 & -2 \\\\ -1 & 3 \\end{bmatrix} = \\begin{bmatrix} 1/2 & -1/2 \\\\ -1/4 & 3/4\\end{bmatrix}$"
      ]
    },
    {
      "metadata": {
        "id": "B7q5osaBjo10",
        "colab_type": "text"
      },
      "cell_type": "markdown",
      "source": [
        "##Visualize the Vectors\n",
        "\n",
        "Graph the following:\n",
        "\n",
        "  Vector v_1 = [1,0] \n",
        "  \n",
        "  Vector v_2 = v_1 scaled by 2\n",
        "  \n",
        "  Vector v_3 = [0,-1]\n",
        "  \n",
        "  Vector v_4 = the sum of v_2 and v_3\n",
        " "
      ]
    },
    {
      "metadata": {
        "id": "uy65IMqbeNKw",
        "colab_type": "code",
        "colab": {
          "base_uri": "https://localhost:8080/",
          "height": 362
        },
        "outputId": "ff25bd87-59d3-4294-a31c-235446e37147"
      },
      "cell_type": "code",
      "source": [
        "# Visualize the vectors graph goes here\n",
        "import matplotlib.pyplot as plt\n",
        "\n",
        "\n",
        "def add_vectors(c, d):\n",
        "  new_vector = list(map(lambda a, b: a + b, c, d))\n",
        "  return new_vector\n",
        "\n",
        "v_1 = [1, 0]\n",
        "v_2 = list(map(lambda v: v*2, v_1))\n",
        "v_3 = [0, -1]\n",
        "v_4 = add_vectors(v_2, v_3)\n",
        "\n",
        "plt.arrow(0, 0, v_1[0], v_1[1], head_width=.1, head_length=.25, color='r')\n",
        "plt.arrow(0, 0, v_2[0], v_2[1], head_width=.1, head_length=.25, color='b')\n",
        "plt.arrow(0, 0, v_3[0], v_3[1], head_width=.1, head_length=.25, color='g')\n",
        "plt.arrow(0, 0, v_4[0], v_4[1], head_width=.1, head_length=.25, color='y')\n",
        "plt.title('Four Vectors')\n",
        "plt.axis([-1, 3, -2, 1])\n",
        "plt.show()"
      ],
      "execution_count": 28,
      "outputs": [
        {
          "output_type": "display_data",
          "data": {
            "image/png": "[encoded data removed]",
            "text/plain": [
              "<matplotlib.figure.Figure at 0x7fe506782400>"
            ]
          },
          "metadata": {
            "tags": []
          }
        }
      ]
    },
    {
      "metadata": {
        "id": "jWDov3LvlF9C",
        "colab_type": "text"
      },
      "cell_type": "markdown",
      "source": [
        "## Graph the Matrix\n",
        "\n",
        "Graph the columns and rows of this matrix: \n",
        " $\\begin {bmatrix} 2 & 2 \\\\ 3 & 1 \\end{bmatrix}$"
      ]
    },
    {
      "metadata": {
        "id": "Vru0b8zOlEUQ",
        "colab_type": "code",
        "colab": {
          "base_uri": "https://localhost:8080/",
          "height": 362
        },
        "outputId": "c8833d44-9c49-4b1c-988e-037d848ca5c3"
      },
      "cell_type": "code",
      "source": [
        "# Matrix graph goes here\n",
        "matrix = [[2, 2], [3, 1]]\n",
        "v_1 = matrix[0]\n",
        "v_2 = matrix[1]\n",
        "v_3 = [matrix[i][0] for i in range(2)]\n",
        "v_4 = [matrix[i][1] for i in range(2)]\n",
        "\n",
        "plt.arrow(0, 0, v_1[0], v_1[1], head_width=.1, head_length=.25, color='r')\n",
        "plt.arrow(0, 0, v_2[0], v_2[1], head_width=.1, head_length=.25, color='b')\n",
        "plt.arrow(0, 0, v_3[0], v_3[1], head_width=.1, head_length=.25, color='g')\n",
        "plt.arrow(0, 0, v_4[0], v_4[1], head_width=.1, head_length=.25, color='y')\n",
        "plt.title('Columns and Rows of the Matrix')\n",
        "plt.axis([-0.5, 3.5, -0.5, 3.5])\n",
        "plt.show()"
      ],
      "execution_count": 29,
      "outputs": [
        {
          "output_type": "display_data",
          "data": {
            "image/png": "[encoded data removed]",
            "text/plain": [
              "<matplotlib.figure.Figure at 0x7fe50678c780>"
            ]
          },
          "metadata": {
            "tags": []
          }
        }
      ]
    },
    {
      "metadata": {
        "id": "QbBhyPwhlggH",
        "colab_type": "text"
      },
      "cell_type": "markdown",
      "source": [
        "## Using the tools: NumPy Edition\n",
        "\n",
        "Use the NumPy library to compute the \"Computations by Hand\" section. Make sure to print each answer and label your print statement"
      ]
    },
    {
      "metadata": {
        "id": "JcjUoEANlf8Q",
        "colab_type": "code",
        "colab": {
          "base_uri": "https://localhost:8080/",
          "height": 272
        },
        "outputId": "1894a6c1-236e-4879-de34-08b910dc5b22"
      },
      "cell_type": "code",
      "source": [
        "# Code goes here\n",
        "import numpy as np\n",
        "\n",
        "# Problem 1\n",
        "v_0 = np.array([1, 3, 4])\n",
        "v_1 = np.array([4, 2, 6])\n",
        "v_2 = np.add(v_0, v_1)\n",
        "print('v_2 =', v_2)\n",
        "\n",
        "# Problem 2\n",
        "v_3 = np.array([1, 2, 3])\n",
        "v_4 = np.multiply(v_3, 5)\n",
        "print('v_4 =', v_4)\n",
        "\n",
        "# Problem 3\n",
        "m_0 = np.matrix('1 3; 2 3')\n",
        "v_5 = np.matrix('1; 2')\n",
        "v_6 = np.matmul(m_0, v_5)\n",
        "print('v_6 =\\n', v_6)\n",
        "\n",
        "# Problem 4\n",
        "m_1 = np.matrix('2 2; 3 1')\n",
        "m_2 = np.matmul(m_0, m_1)\n",
        "print('m_2 =\\n', m_2)\n",
        "\n",
        "# Problem 5\n",
        "m_3 = np.matrix('1 4; 2 5; 3 6')\n",
        "m_4 = np.transpose(m_3)\n",
        "print('m_4 =\\n', m_4)\n",
        "\n",
        "# Problem 6\n",
        "m_5 = np.matrix('2 2; 3 1')\n",
        "c_0 = np.linalg.det(m_5)\n",
        "print('c_0 =', c_0)  # floating point error :)\n",
        "\n",
        "# Problem 7\n",
        "m_6 = np.matrix('3 2; 1 2')\n",
        "m_7 = np.linalg.inv(m_6)\n",
        "print('m_7 =\\n', m_7)"
      ],
      "execution_count": 40,
      "outputs": [
        {
          "output_type": "stream",
          "text": [
            "v_2 = [ 5  5 10]\n",
            "v_4 = [ 5 10 15]\n",
            "v_6 =\n",
            " [[7]\n",
            " [8]]\n",
            "m_2 =\n",
            " [[11  5]\n",
            " [13  7]]\n",
            "m_4 =\n",
            " [[1 2 3]\n",
            " [4 5 6]]\n",
            "c_0 = -4.000000000000001\n",
            "m_7 =\n",
            " [[ 0.5  -0.5 ]\n",
            " [-0.25  0.75]]\n"
          ],
          "name": "stdout"
        }
      ]
    }
  ]
}