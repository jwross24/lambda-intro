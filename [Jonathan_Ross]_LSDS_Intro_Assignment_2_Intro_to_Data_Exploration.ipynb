{
  "nbformat": 4,
  "nbformat_minor": 0,
  "metadata": {
    "colab": {
      "name": "[Jonathan Ross] LSDS Intro Assignment 2 - Intro to Data Exploration",
      "version": "0.3.2",
      "provenance": [],
      "collapsed_sections": [],
      "include_colab_link": true
    },
    "kernelspec": {
      "name": "python3",
      "display_name": "Python 3"
    }
  },
  "cells": [
    {
      "cell_type": "markdown",
      "metadata": {
        "id": "view-in-github",
        "colab_type": "text"
      },
      "source": [
        "<a href=\"https://colab.research.google.com/github/jwross24/lambda-intro/blob/master/[Jonathan_Ross]_LSDS_Intro_Assignment_2_Intro_to_Data_Exploration.ipynb\" target=\"_parent\"><img src=\"https://colab.research.google.com/assets/colab-badge.svg\" alt=\"Open In Colab\"/></a>"
      ]
    },
    {
      "metadata": {
        "id": "dJNVAHIX8XCi",
        "colab_type": "text"
      },
      "cell_type": "markdown",
      "source": [
        "## 1) Copy the notebook to your google account."
      ]
    },
    {
      "metadata": {
        "id": "ViAyRUAM8cMo",
        "colab_type": "text"
      },
      "cell_type": "markdown",
      "source": [
        "## 2) Import the pandas library and alias it as \"pd\"."
      ]
    },
    {
      "metadata": {
        "id": "Kd_nusDS98v7",
        "colab_type": "code",
        "colab": {}
      },
      "cell_type": "code",
      "source": [
        "##### Your Code Here #####\n",
        "import pandas as pd"
      ],
      "execution_count": 0,
      "outputs": []
    },
    {
      "metadata": {
        "id": "YjCgT50E8zPu",
        "colab_type": "text"
      },
      "cell_type": "markdown",
      "source": [
        "## 3) Read in the CSV dataset that is found at the following URL:\n",
        "[DATASET HERE](https://raw.githubusercontent.com/ryanleeallred/datasets/master/messy-data.csv)\n"
      ]
    },
    {
      "metadata": {
        "id": "HzEBd-hz99Ma",
        "colab_type": "code",
        "colab": {}
      },
      "cell_type": "code",
      "source": [
        "##### Your Code Here #####\n",
        "df = pd.read_csv('https://raw.githubusercontent.com/ryanleeallred/datasets/master/messy-data.csv')"
      ],
      "execution_count": 0,
      "outputs": []
    },
    {
      "metadata": {
        "id": "Mu1IYH3g9EF3",
        "colab_type": "text"
      },
      "cell_type": "markdown",
      "source": [
        "## 4) Print out the shape as well as the first 5 rows of the dataframe."
      ]
    },
    {
      "metadata": {
        "id": "ZLnVdtLW99vN",
        "colab_type": "code",
        "colab": {
          "base_uri": "https://localhost:8080/",
          "height": 204
        },
        "outputId": "a10673a0-9401-422a-a680-62b5bf43f750"
      },
      "cell_type": "code",
      "source": [
        "##### Your Code Here #####\n",
        "df.head()"
      ],
      "execution_count": 23,
      "outputs": [
        {
          "output_type": "execute_result",
          "data": {
            "text/html": [
              "<div>\n",
              "<style scoped>\n",
              "    .dataframe tbody tr th:only-of-type {\n",
              "        vertical-align: middle;\n",
              "    }\n",
              "\n",
              "    .dataframe tbody tr th {\n",
              "        vertical-align: top;\n",
              "    }\n",
              "\n",
              "    .dataframe thead th {\n",
              "        text-align: right;\n",
              "    }\n",
              "</style>\n",
              "<table border=\"1\" class=\"dataframe\">\n",
              "  <thead>\n",
              "    <tr style=\"text-align: right;\">\n",
              "      <th></th>\n",
              "      <th>alpha</th>\n",
              "      <th>beta</th>\n",
              "      <th>gamma</th>\n",
              "      <th>delta</th>\n",
              "      <th>epsilon</th>\n",
              "      <th>zeta</th>\n",
              "      <th>eta</th>\n",
              "    </tr>\n",
              "  </thead>\n",
              "  <tbody>\n",
              "    <tr>\n",
              "      <th>0</th>\n",
              "      <td>2</td>\n",
              "      <td>48</td>\n",
              "      <td>12</td>\n",
              "      <td>240</td>\n",
              "      <td>3.0</td>\n",
              "      <td>Yes</td>\n",
              "      <td>AZ</td>\n",
              "    </tr>\n",
              "    <tr>\n",
              "      <th>1</th>\n",
              "      <td>3</td>\n",
              "      <td>46</td>\n",
              "      <td>18</td>\n",
              "      <td>230</td>\n",
              "      <td>5.0</td>\n",
              "      <td>NaN</td>\n",
              "      <td>VT</td>\n",
              "    </tr>\n",
              "    <tr>\n",
              "      <th>2</th>\n",
              "      <td>4</td>\n",
              "      <td>44</td>\n",
              "      <td>24</td>\n",
              "      <td>220</td>\n",
              "      <td>7.0</td>\n",
              "      <td>No</td>\n",
              "      <td>PA</td>\n",
              "    </tr>\n",
              "    <tr>\n",
              "      <th>3</th>\n",
              "      <td>5</td>\n",
              "      <td>42</td>\n",
              "      <td>30</td>\n",
              "      <td>210</td>\n",
              "      <td>9.0</td>\n",
              "      <td>Yes</td>\n",
              "      <td>OK</td>\n",
              "    </tr>\n",
              "    <tr>\n",
              "      <th>4</th>\n",
              "      <td>6</td>\n",
              "      <td>44</td>\n",
              "      <td>36</td>\n",
              "      <td>220</td>\n",
              "      <td>11.0</td>\n",
              "      <td>Yes</td>\n",
              "      <td>MD</td>\n",
              "    </tr>\n",
              "  </tbody>\n",
              "</table>\n",
              "</div>"
            ],
            "text/plain": [
              "   alpha  beta  gamma  delta  epsilon zeta eta\n",
              "0      2    48     12    240      3.0  Yes  AZ\n",
              "1      3    46     18    230      5.0  NaN  VT\n",
              "2      4    44     24    220      7.0   No  PA\n",
              "3      5    42     30    210      9.0  Yes  OK\n",
              "4      6    44     36    220     11.0  Yes  MD"
            ]
          },
          "metadata": {
            "tags": []
          },
          "execution_count": 23
        }
      ]
    },
    {
      "metadata": {
        "id": "lQXA62rd9OWM",
        "colab_type": "text"
      },
      "cell_type": "markdown",
      "source": [
        "## 5) Print out the datatypes of the dataframe columns (dataset features)."
      ]
    },
    {
      "metadata": {
        "id": "5hPgdg0W9-1j",
        "colab_type": "code",
        "colab": {
          "base_uri": "https://localhost:8080/",
          "height": 153
        },
        "outputId": "6ce8845d-a257-432c-e79c-414b1a456af0"
      },
      "cell_type": "code",
      "source": [
        "##### Your Code Here #####\n",
        "df.dtypes"
      ],
      "execution_count": 24,
      "outputs": [
        {
          "output_type": "execute_result",
          "data": {
            "text/plain": [
              "alpha        int64\n",
              "beta         int64\n",
              "gamma        int64\n",
              "delta        int64\n",
              "epsilon    float64\n",
              "zeta        object\n",
              "eta         object\n",
              "dtype: object"
            ]
          },
          "metadata": {
            "tags": []
          },
          "execution_count": 24
        }
      ]
    },
    {
      "metadata": {
        "id": "WcMnUSW5fb9b",
        "colab_type": "text"
      },
      "cell_type": "markdown",
      "source": [
        "## 6) Print out the summary statistics of the numeric values of your dataset i.e. min, max, mean, standard deviation, etc."
      ]
    },
    {
      "metadata": {
        "id": "4Np346ECfn0i",
        "colab_type": "code",
        "colab": {
          "base_uri": "https://localhost:8080/",
          "height": 297
        },
        "outputId": "7089b2ed-354a-4675-c1f6-621d899a511b"
      },
      "cell_type": "code",
      "source": [
        "##### Your Code Here #####\n",
        "df.describe()"
      ],
      "execution_count": 25,
      "outputs": [
        {
          "output_type": "execute_result",
          "data": {
            "text/html": [
              "<div>\n",
              "<style scoped>\n",
              "    .dataframe tbody tr th:only-of-type {\n",
              "        vertical-align: middle;\n",
              "    }\n",
              "\n",
              "    .dataframe tbody tr th {\n",
              "        vertical-align: top;\n",
              "    }\n",
              "\n",
              "    .dataframe thead th {\n",
              "        text-align: right;\n",
              "    }\n",
              "</style>\n",
              "<table border=\"1\" class=\"dataframe\">\n",
              "  <thead>\n",
              "    <tr style=\"text-align: right;\">\n",
              "      <th></th>\n",
              "      <th>alpha</th>\n",
              "      <th>beta</th>\n",
              "      <th>gamma</th>\n",
              "      <th>delta</th>\n",
              "      <th>epsilon</th>\n",
              "    </tr>\n",
              "  </thead>\n",
              "  <tbody>\n",
              "    <tr>\n",
              "      <th>count</th>\n",
              "      <td>165.000000</td>\n",
              "      <td>165.000000</td>\n",
              "      <td>165.000000</td>\n",
              "      <td>165.000000</td>\n",
              "      <td>141.000000</td>\n",
              "    </tr>\n",
              "    <tr>\n",
              "      <th>mean</th>\n",
              "      <td>46.169697</td>\n",
              "      <td>17.921212</td>\n",
              "      <td>277.018182</td>\n",
              "      <td>89.606061</td>\n",
              "      <td>164.794326</td>\n",
              "    </tr>\n",
              "    <tr>\n",
              "      <th>std</th>\n",
              "      <td>24.371521</td>\n",
              "      <td>17.769180</td>\n",
              "      <td>146.229125</td>\n",
              "      <td>88.845900</td>\n",
              "      <td>96.430843</td>\n",
              "    </tr>\n",
              "    <tr>\n",
              "      <th>min</th>\n",
              "      <td>2.000000</td>\n",
              "      <td>-11.000000</td>\n",
              "      <td>12.000000</td>\n",
              "      <td>-55.000000</td>\n",
              "      <td>3.000000</td>\n",
              "    </tr>\n",
              "    <tr>\n",
              "      <th>25%</th>\n",
              "      <td>28.000000</td>\n",
              "      <td>7.000000</td>\n",
              "      <td>168.000000</td>\n",
              "      <td>35.000000</td>\n",
              "      <td>83.000000</td>\n",
              "    </tr>\n",
              "    <tr>\n",
              "      <th>50%</th>\n",
              "      <td>44.000000</td>\n",
              "      <td>15.000000</td>\n",
              "      <td>264.000000</td>\n",
              "      <td>75.000000</td>\n",
              "      <td>163.000000</td>\n",
              "    </tr>\n",
              "    <tr>\n",
              "      <th>75%</th>\n",
              "      <td>65.000000</td>\n",
              "      <td>32.000000</td>\n",
              "      <td>390.000000</td>\n",
              "      <td>160.000000</td>\n",
              "      <td>247.000000</td>\n",
              "    </tr>\n",
              "    <tr>\n",
              "      <th>max</th>\n",
              "      <td>85.000000</td>\n",
              "      <td>50.000000</td>\n",
              "      <td>510.000000</td>\n",
              "      <td>250.000000</td>\n",
              "      <td>331.000000</td>\n",
              "    </tr>\n",
              "  </tbody>\n",
              "</table>\n",
              "</div>"
            ],
            "text/plain": [
              "            alpha        beta       gamma       delta     epsilon\n",
              "count  165.000000  165.000000  165.000000  165.000000  141.000000\n",
              "mean    46.169697   17.921212  277.018182   89.606061  164.794326\n",
              "std     24.371521   17.769180  146.229125   88.845900   96.430843\n",
              "min      2.000000  -11.000000   12.000000  -55.000000    3.000000\n",
              "25%     28.000000    7.000000  168.000000   35.000000   83.000000\n",
              "50%     44.000000   15.000000  264.000000   75.000000  163.000000\n",
              "75%     65.000000   32.000000  390.000000  160.000000  247.000000\n",
              "max     85.000000   50.000000  510.000000  250.000000  331.000000"
            ]
          },
          "metadata": {
            "tags": []
          },
          "execution_count": 25
        }
      ]
    },
    {
      "metadata": {
        "id": "m2KFAh6T97-t",
        "colab_type": "text"
      },
      "cell_type": "markdown",
      "source": [
        "## 6) Clean all NaN values from the dataset.\n",
        "\n",
        "Feel free to add code cells as needed."
      ]
    },
    {
      "metadata": {
        "id": "9fkfvv5ELfuE",
        "colab_type": "code",
        "colab": {
          "base_uri": "https://localhost:8080/",
          "height": 359
        },
        "outputId": "5d7e0474-7fa0-4ce2-f750-eb76119c5969"
      },
      "cell_type": "code",
      "source": [
        "##### Your Code Here #####\n",
        "df.head(10)"
      ],
      "execution_count": 26,
      "outputs": [
        {
          "output_type": "execute_result",
          "data": {
            "text/html": [
              "<div>\n",
              "<style scoped>\n",
              "    .dataframe tbody tr th:only-of-type {\n",
              "        vertical-align: middle;\n",
              "    }\n",
              "\n",
              "    .dataframe tbody tr th {\n",
              "        vertical-align: top;\n",
              "    }\n",
              "\n",
              "    .dataframe thead th {\n",
              "        text-align: right;\n",
              "    }\n",
              "</style>\n",
              "<table border=\"1\" class=\"dataframe\">\n",
              "  <thead>\n",
              "    <tr style=\"text-align: right;\">\n",
              "      <th></th>\n",
              "      <th>alpha</th>\n",
              "      <th>beta</th>\n",
              "      <th>gamma</th>\n",
              "      <th>delta</th>\n",
              "      <th>epsilon</th>\n",
              "      <th>zeta</th>\n",
              "      <th>eta</th>\n",
              "    </tr>\n",
              "  </thead>\n",
              "  <tbody>\n",
              "    <tr>\n",
              "      <th>0</th>\n",
              "      <td>2</td>\n",
              "      <td>48</td>\n",
              "      <td>12</td>\n",
              "      <td>240</td>\n",
              "      <td>3.0</td>\n",
              "      <td>Yes</td>\n",
              "      <td>AZ</td>\n",
              "    </tr>\n",
              "    <tr>\n",
              "      <th>1</th>\n",
              "      <td>3</td>\n",
              "      <td>46</td>\n",
              "      <td>18</td>\n",
              "      <td>230</td>\n",
              "      <td>5.0</td>\n",
              "      <td>NaN</td>\n",
              "      <td>VT</td>\n",
              "    </tr>\n",
              "    <tr>\n",
              "      <th>2</th>\n",
              "      <td>4</td>\n",
              "      <td>44</td>\n",
              "      <td>24</td>\n",
              "      <td>220</td>\n",
              "      <td>7.0</td>\n",
              "      <td>No</td>\n",
              "      <td>PA</td>\n",
              "    </tr>\n",
              "    <tr>\n",
              "      <th>3</th>\n",
              "      <td>5</td>\n",
              "      <td>42</td>\n",
              "      <td>30</td>\n",
              "      <td>210</td>\n",
              "      <td>9.0</td>\n",
              "      <td>Yes</td>\n",
              "      <td>OK</td>\n",
              "    </tr>\n",
              "    <tr>\n",
              "      <th>4</th>\n",
              "      <td>6</td>\n",
              "      <td>44</td>\n",
              "      <td>36</td>\n",
              "      <td>220</td>\n",
              "      <td>11.0</td>\n",
              "      <td>Yes</td>\n",
              "      <td>MD</td>\n",
              "    </tr>\n",
              "    <tr>\n",
              "      <th>5</th>\n",
              "      <td>7</td>\n",
              "      <td>46</td>\n",
              "      <td>42</td>\n",
              "      <td>230</td>\n",
              "      <td>13.0</td>\n",
              "      <td>No</td>\n",
              "      <td>OH</td>\n",
              "    </tr>\n",
              "    <tr>\n",
              "      <th>6</th>\n",
              "      <td>8</td>\n",
              "      <td>48</td>\n",
              "      <td>48</td>\n",
              "      <td>240</td>\n",
              "      <td>15.0</td>\n",
              "      <td>Yes</td>\n",
              "      <td>AL</td>\n",
              "    </tr>\n",
              "    <tr>\n",
              "      <th>7</th>\n",
              "      <td>9</td>\n",
              "      <td>50</td>\n",
              "      <td>54</td>\n",
              "      <td>250</td>\n",
              "      <td>17.0</td>\n",
              "      <td>No</td>\n",
              "      <td>AR</td>\n",
              "    </tr>\n",
              "    <tr>\n",
              "      <th>8</th>\n",
              "      <td>5</td>\n",
              "      <td>40</td>\n",
              "      <td>30</td>\n",
              "      <td>200</td>\n",
              "      <td>19.0</td>\n",
              "      <td>Yes</td>\n",
              "      <td>GA</td>\n",
              "    </tr>\n",
              "    <tr>\n",
              "      <th>9</th>\n",
              "      <td>5</td>\n",
              "      <td>38</td>\n",
              "      <td>30</td>\n",
              "      <td>190</td>\n",
              "      <td>NaN</td>\n",
              "      <td>No</td>\n",
              "      <td>DE</td>\n",
              "    </tr>\n",
              "  </tbody>\n",
              "</table>\n",
              "</div>"
            ],
            "text/plain": [
              "   alpha  beta  gamma  delta  epsilon zeta eta\n",
              "0      2    48     12    240      3.0  Yes  AZ\n",
              "1      3    46     18    230      5.0  NaN  VT\n",
              "2      4    44     24    220      7.0   No  PA\n",
              "3      5    42     30    210      9.0  Yes  OK\n",
              "4      6    44     36    220     11.0  Yes  MD\n",
              "5      7    46     42    230     13.0   No  OH\n",
              "6      8    48     48    240     15.0  Yes  AL\n",
              "7      9    50     54    250     17.0   No  AR\n",
              "8      5    40     30    200     19.0  Yes  GA\n",
              "9      5    38     30    190      NaN   No  DE"
            ]
          },
          "metadata": {
            "tags": []
          },
          "execution_count": 26
        }
      ]
    },
    {
      "metadata": {
        "id": "3peONloIEfIt",
        "colab_type": "code",
        "colab": {
          "base_uri": "https://localhost:8080/",
          "height": 153
        },
        "outputId": "4b602f85-b880-4776-cfb7-c893f9fe21a3"
      },
      "cell_type": "code",
      "source": [
        "df.isnull().sum()"
      ],
      "execution_count": 27,
      "outputs": [
        {
          "output_type": "execute_result",
          "data": {
            "text/plain": [
              "alpha       0\n",
              "beta        0\n",
              "gamma       0\n",
              "delta       0\n",
              "epsilon    24\n",
              "zeta       19\n",
              "eta         0\n",
              "dtype: int64"
            ]
          },
          "metadata": {
            "tags": []
          },
          "execution_count": 27
        }
      ]
    },
    {
      "metadata": {
        "id": "BIvGUkLCFCcc",
        "colab_type": "code",
        "colab": {
          "base_uri": "https://localhost:8080/",
          "height": 204
        },
        "outputId": "4fe555fe-78a4-4f46-917b-be66ff100206"
      },
      "cell_type": "code",
      "source": [
        "# Here we see that only the epsilon and zeta columns have NaN values\n",
        "# It looks like there's a pattern in the epsilon column, so let's check it out.\n",
        "df.epsilon.head(10)"
      ],
      "execution_count": 28,
      "outputs": [
        {
          "output_type": "execute_result",
          "data": {
            "text/plain": [
              "0     3.0\n",
              "1     5.0\n",
              "2     7.0\n",
              "3     9.0\n",
              "4    11.0\n",
              "5    13.0\n",
              "6    15.0\n",
              "7    17.0\n",
              "8    19.0\n",
              "9     NaN\n",
              "Name: epsilon, dtype: float64"
            ]
          },
          "metadata": {
            "tags": []
          },
          "execution_count": 28
        }
      ]
    },
    {
      "metadata": {
        "id": "58JrMZOlFVr7",
        "colab_type": "code",
        "colab": {
          "base_uri": "https://localhost:8080/",
          "height": 34
        },
        "outputId": "1053f3ae-bdfe-4ab8-fd26-9de53fa95273"
      },
      "cell_type": "code",
      "source": [
        "# Replace NaN values in epsilon according to the pattern\n",
        "full_pattern = [float(i*2 + 3) for i in range(len(df['epsilon']))]\n",
        "s = pd.Series(full_pattern)\n",
        "df['epsilon'] = df['epsilon'].fillna(s)\n",
        "df['epsilon'].isnull().sum()"
      ],
      "execution_count": 29,
      "outputs": [
        {
          "output_type": "execute_result",
          "data": {
            "text/plain": [
              "0"
            ]
          },
          "metadata": {
            "tags": []
          },
          "execution_count": 29
        }
      ]
    },
    {
      "metadata": {
        "id": "djPvZluxL-UN",
        "colab_type": "code",
        "colab": {
          "base_uri": "https://localhost:8080/",
          "height": 34
        },
        "outputId": "f7e84c4d-fb57-4b21-e98b-c61bee754908"
      },
      "cell_type": "code",
      "source": [
        "df['zeta'] = df['zeta'].fillna(method='ffill')\n",
        "df['zeta'].isnull().sum()"
      ],
      "execution_count": 30,
      "outputs": [
        {
          "output_type": "execute_result",
          "data": {
            "text/plain": [
              "0"
            ]
          },
          "metadata": {
            "tags": []
          },
          "execution_count": 30
        }
      ]
    },
    {
      "metadata": {
        "id": "wP7BDqcwLauI",
        "colab_type": "text"
      },
      "cell_type": "markdown",
      "source": [
        "## 6.1) Describe how you addressed the NaN values and give an explanation justifying your decision."
      ]
    },
    {
      "metadata": {
        "id": "WMyNKMBa-Vsb",
        "colab_type": "code",
        "colab": {}
      },
      "cell_type": "code",
      "source": [
        "##### Your Code Here #####\n",
        "# For the epsilon column, the values seemed to follow a pattern. In order to use\n",
        "# the fillna() function, we input the values to replace the NaN using a series.\n",
        "# In order to define the series, I used the pandas.Series function. Then fillna\n",
        "# specifies the index for each item in the series to replace the NaN. That way,\n",
        "# the pattern is sustained.\n",
        "\n",
        "# Looking into the documentation, I also found a function called interpolate()\n",
        "# that could probably perform the same job. However, I limited myself to only\n",
        "# using the functionality in fillna().\n",
        "\n",
        "# For the zeta column, it seems like there is a good mix of 'Yes' and 'No'\n",
        "# before each NaN value, so the 'ffill' method in fillna() will do a good job\n",
        "# and not add too much bias to the data."
      ],
      "execution_count": 0,
      "outputs": []
    },
    {
      "metadata": {
        "id": "ln9-44Jg-V6d",
        "colab_type": "text"
      },
      "cell_type": "markdown",
      "source": [
        "## 7) Create scatter plots using Matplotlib. Can you find any interesting relationships in the data? Be sure to label your axis and to give your graphs a title.\n",
        "\n",
        "Screenshot cool graphs that you create and share them with the slack channel. \n",
        "\n",
        "Don't forget to import matplotlib before trying to use it."
      ]
    },
    {
      "metadata": {
        "id": "eeJwN6OBLUyv",
        "colab_type": "code",
        "colab": {
          "base_uri": "https://localhost:8080/",
          "height": 376
        },
        "outputId": "8b8b4129-c382-4067-c407-ce95b61649e2"
      },
      "cell_type": "code",
      "source": [
        "##### Your Code Here #####\n",
        "import matplotlib.pyplot as plt\n",
        "\n",
        "plt.scatter(df['alpha'], df['beta'])\n",
        "plt.xlabel('Alpha')\n",
        "plt.ylabel('Beta')\n",
        "plt.title('Beta by Alpha')\n",
        "plt.show()"
      ],
      "execution_count": 33,
      "outputs": [
        {
          "output_type": "display_data",
          "data": {
            "image/png": "[encoded data removed]",
            "text/plain": [
              "<matplotlib.figure.Figure at 0x7f9f28243cc0>"
            ]
          },
          "metadata": {
            "tags": []
          }
        }
      ]
    },
    {
      "metadata": {
        "id": "mdIJzDVoOIFw",
        "colab_type": "code",
        "colab": {
          "base_uri": "https://localhost:8080/",
          "height": 376
        },
        "outputId": "3faedafc-e6cb-489b-cbc3-29d6a74e5021"
      },
      "cell_type": "code",
      "source": [
        "plt.scatter(df['gamma'], df['delta'], c='r', alpha=0.5, linewidths=2, \n",
        "            marker='2', edgecolors='k')\n",
        "plt.xlabel('Gamma')\n",
        "plt.ylabel('Delta')\n",
        "plt.title('Delta by Gamma')\n",
        "plt.show()"
      ],
      "execution_count": 38,
      "outputs": [
        {
          "output_type": "display_data",
          "data": {
            "image/png": "[encoded data removed]",
            "text/plain": [
              "<matplotlib.figure.Figure at 0x7f9f2806c978>"
            ]
          },
          "metadata": {
            "tags": []
          }
        }
      ]
    },
    {
      "metadata": {
        "id": "yo4YDnjpmdAj",
        "colab_type": "text"
      },
      "cell_type": "markdown",
      "source": [
        "## 8) STRETCH GOAL (Extra Credit)\n",
        "\n",
        "Machine Learning algorithms don't do well with categorical values that are represented by strings. In order to have this dataset completely cleaned we need to transform the categorical variables that are represented as strings into numeric categorical variables\n",
        "\n",
        "- **Turn all categorical features (columns) into numeric features**\n",
        "\n",
        "Hints:\n",
        "\n",
        "[Scikit-Learn One-Hot-Encoder](http://scikit-learn.org/stable/modules/generated/sklearn.preprocessing.OneHotEncoder.html)\n",
        "\n",
        "[Pandas Docs - Working with Categorical Data](https://pandas.pydata.org/pandas-docs/stable/categorical.html)\n",
        "\n",
        "[Guide to Encoding Categorical Variables in Python](http://pbpython.com/categorical-encoding.html)"
      ]
    },
    {
      "metadata": {
        "id": "1wcXMw__RDDo",
        "colab_type": "code",
        "colab": {
          "base_uri": "https://localhost:8080/",
          "height": 204
        },
        "outputId": "b800f079-d28a-49b3-dfc9-3b539b1e58b1"
      },
      "cell_type": "code",
      "source": [
        "obj_df = df.select_dtypes(include=['object']).copy()\n",
        "obj_df.head()"
      ],
      "execution_count": 39,
      "outputs": [
        {
          "output_type": "execute_result",
          "data": {
            "text/html": [
              "<div>\n",
              "<style scoped>\n",
              "    .dataframe tbody tr th:only-of-type {\n",
              "        vertical-align: middle;\n",
              "    }\n",
              "\n",
              "    .dataframe tbody tr th {\n",
              "        vertical-align: top;\n",
              "    }\n",
              "\n",
              "    .dataframe thead th {\n",
              "        text-align: right;\n",
              "    }\n",
              "</style>\n",
              "<table border=\"1\" class=\"dataframe\">\n",
              "  <thead>\n",
              "    <tr style=\"text-align: right;\">\n",
              "      <th></th>\n",
              "      <th>zeta</th>\n",
              "      <th>eta</th>\n",
              "    </tr>\n",
              "  </thead>\n",
              "  <tbody>\n",
              "    <tr>\n",
              "      <th>0</th>\n",
              "      <td>Yes</td>\n",
              "      <td>AZ</td>\n",
              "    </tr>\n",
              "    <tr>\n",
              "      <th>1</th>\n",
              "      <td>Yes</td>\n",
              "      <td>VT</td>\n",
              "    </tr>\n",
              "    <tr>\n",
              "      <th>2</th>\n",
              "      <td>No</td>\n",
              "      <td>PA</td>\n",
              "    </tr>\n",
              "    <tr>\n",
              "      <th>3</th>\n",
              "      <td>Yes</td>\n",
              "      <td>OK</td>\n",
              "    </tr>\n",
              "    <tr>\n",
              "      <th>4</th>\n",
              "      <td>Yes</td>\n",
              "      <td>MD</td>\n",
              "    </tr>\n",
              "  </tbody>\n",
              "</table>\n",
              "</div>"
            ],
            "text/plain": [
              "  zeta eta\n",
              "0  Yes  AZ\n",
              "1  Yes  VT\n",
              "2   No  PA\n",
              "3  Yes  OK\n",
              "4  Yes  MD"
            ]
          },
          "metadata": {
            "tags": []
          },
          "execution_count": 39
        }
      ]
    },
    {
      "metadata": {
        "id": "Vq7ck_txTMRd",
        "colab_type": "code",
        "colab": {
          "base_uri": "https://localhost:8080/",
          "height": 253
        },
        "outputId": "d1c2e5ea-62c0-42b9-f54f-17e9a323e937"
      },
      "cell_type": "code",
      "source": [
        "pd.get_dummies(obj_df, columns=['zeta', 'eta']).head()"
      ],
      "execution_count": 40,
      "outputs": [
        {
          "output_type": "execute_result",
          "data": {
            "text/html": [
              "<div>\n",
              "<style scoped>\n",
              "    .dataframe tbody tr th:only-of-type {\n",
              "        vertical-align: middle;\n",
              "    }\n",
              "\n",
              "    .dataframe tbody tr th {\n",
              "        vertical-align: top;\n",
              "    }\n",
              "\n",
              "    .dataframe thead th {\n",
              "        text-align: right;\n",
              "    }\n",
              "</style>\n",
              "<table border=\"1\" class=\"dataframe\">\n",
              "  <thead>\n",
              "    <tr style=\"text-align: right;\">\n",
              "      <th></th>\n",
              "      <th>zeta_No</th>\n",
              "      <th>zeta_Yes</th>\n",
              "      <th>eta_AK</th>\n",
              "      <th>eta_AL</th>\n",
              "      <th>eta_AR</th>\n",
              "      <th>eta_AZ</th>\n",
              "      <th>eta_CA</th>\n",
              "      <th>eta_CO</th>\n",
              "      <th>eta_CT</th>\n",
              "      <th>eta_DC</th>\n",
              "      <th>...</th>\n",
              "      <th>eta_SD</th>\n",
              "      <th>eta_TN</th>\n",
              "      <th>eta_TX</th>\n",
              "      <th>eta_UT</th>\n",
              "      <th>eta_VA</th>\n",
              "      <th>eta_VT</th>\n",
              "      <th>eta_WA</th>\n",
              "      <th>eta_WI</th>\n",
              "      <th>eta_WV</th>\n",
              "      <th>eta_WY</th>\n",
              "    </tr>\n",
              "  </thead>\n",
              "  <tbody>\n",
              "    <tr>\n",
              "      <th>0</th>\n",
              "      <td>0</td>\n",
              "      <td>1</td>\n",
              "      <td>0</td>\n",
              "      <td>0</td>\n",
              "      <td>0</td>\n",
              "      <td>1</td>\n",
              "      <td>0</td>\n",
              "      <td>0</td>\n",
              "      <td>0</td>\n",
              "      <td>0</td>\n",
              "      <td>...</td>\n",
              "      <td>0</td>\n",
              "      <td>0</td>\n",
              "      <td>0</td>\n",
              "      <td>0</td>\n",
              "      <td>0</td>\n",
              "      <td>0</td>\n",
              "      <td>0</td>\n",
              "      <td>0</td>\n",
              "      <td>0</td>\n",
              "      <td>0</td>\n",
              "    </tr>\n",
              "    <tr>\n",
              "      <th>1</th>\n",
              "      <td>0</td>\n",
              "      <td>1</td>\n",
              "      <td>0</td>\n",
              "      <td>0</td>\n",
              "      <td>0</td>\n",
              "      <td>0</td>\n",
              "      <td>0</td>\n",
              "      <td>0</td>\n",
              "      <td>0</td>\n",
              "      <td>0</td>\n",
              "      <td>...</td>\n",
              "      <td>0</td>\n",
              "      <td>0</td>\n",
              "      <td>0</td>\n",
              "      <td>0</td>\n",
              "      <td>0</td>\n",
              "      <td>1</td>\n",
              "      <td>0</td>\n",
              "      <td>0</td>\n",
              "      <td>0</td>\n",
              "      <td>0</td>\n",
              "    </tr>\n",
              "    <tr>\n",
              "      <th>2</th>\n",
              "      <td>1</td>\n",
              "      <td>0</td>\n",
              "      <td>0</td>\n",
              "      <td>0</td>\n",
              "      <td>0</td>\n",
              "      <td>0</td>\n",
              "      <td>0</td>\n",
              "      <td>0</td>\n",
              "      <td>0</td>\n",
              "      <td>0</td>\n",
              "      <td>...</td>\n",
              "      <td>0</td>\n",
              "      <td>0</td>\n",
              "      <td>0</td>\n",
              "      <td>0</td>\n",
              "      <td>0</td>\n",
              "      <td>0</td>\n",
              "      <td>0</td>\n",
              "      <td>0</td>\n",
              "      <td>0</td>\n",
              "      <td>0</td>\n",
              "    </tr>\n",
              "    <tr>\n",
              "      <th>3</th>\n",
              "      <td>0</td>\n",
              "      <td>1</td>\n",
              "      <td>0</td>\n",
              "      <td>0</td>\n",
              "      <td>0</td>\n",
              "      <td>0</td>\n",
              "      <td>0</td>\n",
              "      <td>0</td>\n",
              "      <td>0</td>\n",
              "      <td>0</td>\n",
              "      <td>...</td>\n",
              "      <td>0</td>\n",
              "      <td>0</td>\n",
              "      <td>0</td>\n",
              "      <td>0</td>\n",
              "      <td>0</td>\n",
              "      <td>0</td>\n",
              "      <td>0</td>\n",
              "      <td>0</td>\n",
              "      <td>0</td>\n",
              "      <td>0</td>\n",
              "    </tr>\n",
              "    <tr>\n",
              "      <th>4</th>\n",
              "      <td>0</td>\n",
              "      <td>1</td>\n",
              "      <td>0</td>\n",
              "      <td>0</td>\n",
              "      <td>0</td>\n",
              "      <td>0</td>\n",
              "      <td>0</td>\n",
              "      <td>0</td>\n",
              "      <td>0</td>\n",
              "      <td>0</td>\n",
              "      <td>...</td>\n",
              "      <td>0</td>\n",
              "      <td>0</td>\n",
              "      <td>0</td>\n",
              "      <td>0</td>\n",
              "      <td>0</td>\n",
              "      <td>0</td>\n",
              "      <td>0</td>\n",
              "      <td>0</td>\n",
              "      <td>0</td>\n",
              "      <td>0</td>\n",
              "    </tr>\n",
              "  </tbody>\n",
              "</table>\n",
              "<p>5 rows × 51 columns</p>\n",
              "</div>"
            ],
            "text/plain": [
              "   zeta_No  zeta_Yes  eta_AK  eta_AL  eta_AR  eta_AZ  eta_CA  eta_CO  eta_CT  \\\n",
              "0        0         1       0       0       0       1       0       0       0   \n",
              "1        0         1       0       0       0       0       0       0       0   \n",
              "2        1         0       0       0       0       0       0       0       0   \n",
              "3        0         1       0       0       0       0       0       0       0   \n",
              "4        0         1       0       0       0       0       0       0       0   \n",
              "\n",
              "   eta_DC   ...    eta_SD  eta_TN  eta_TX  eta_UT  eta_VA  eta_VT  eta_WA  \\\n",
              "0       0   ...         0       0       0       0       0       0       0   \n",
              "1       0   ...         0       0       0       0       0       1       0   \n",
              "2       0   ...         0       0       0       0       0       0       0   \n",
              "3       0   ...         0       0       0       0       0       0       0   \n",
              "4       0   ...         0       0       0       0       0       0       0   \n",
              "\n",
              "   eta_WI  eta_WV  eta_WY  \n",
              "0       0       0       0  \n",
              "1       0       0       0  \n",
              "2       0       0       0  \n",
              "3       0       0       0  \n",
              "4       0       0       0  \n",
              "\n",
              "[5 rows x 51 columns]"
            ]
          },
          "metadata": {
            "tags": []
          },
          "execution_count": 40
        }
      ]
    }
  ]
}