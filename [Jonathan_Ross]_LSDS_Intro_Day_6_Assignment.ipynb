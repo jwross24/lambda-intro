{
  "nbformat": 4,
  "nbformat_minor": 0,
  "metadata": {
    "colab": {
      "name": "[Jonathan Ross] LSDS Intro Day 6 Assignment.ipynb",
      "version": "0.3.2",
      "provenance": [],
      "include_colab_link": true
    },
    "kernelspec": {
      "name": "python3",
      "display_name": "Python 3"
    }
  },
  "cells": [
    {
      "cell_type": "markdown",
      "metadata": {
        "id": "view-in-github",
        "colab_type": "text"
      },
      "source": [
        "<a href=\"https://colab.research.google.com/github/jwross24/lambda-intro/blob/master/[Jonathan_Ross]_LSDS_Intro_Day_6_Assignment.ipynb\" target=\"_parent\"><img src=\"https://colab.research.google.com/assets/colab-badge.svg\" alt=\"Open In Colab\"/></a>"
      ]
    },
    {
      "metadata": {
        "id": "ZBEbTcJDzUmY",
        "colab_type": "text"
      },
      "cell_type": "markdown",
      "source": [
        "#Linear Algebra Applications Assignment\n",
        "\n"
      ]
    },
    {
      "metadata": {
        "id": "eL5Phm9uvdMN",
        "colab_type": "text"
      },
      "cell_type": "markdown",
      "source": [
        "\n",
        "\n",
        "### Your data:\n",
        "\n",
        "**chirps_per_sec** = chirps/sec for the striped ground cricket\n",
        "\n",
        "**temperature** = temperature in degrees Fahrenheit\n",
        "\n",
        "Reference: The Song of Insects by Dr.G.W. Pierce, Harvard College Press"
      ]
    },
    {
      "metadata": {
        "id": "5gk0TM_HBZQH",
        "colab_type": "code",
        "colab": {}
      },
      "cell_type": "code",
      "source": [
        ""
      ],
      "execution_count": 0,
      "outputs": []
    },
    {
      "metadata": {
        "id": "98zwjiT6XgIu",
        "colab_type": "code",
        "outputId": "273e5cbd-29fc-45a1-d190-a1a81629ff63",
        "colab": {
          "base_uri": "https://localhost:8080/",
          "height": 255
        }
      },
      "cell_type": "code",
      "source": [
        "!pip install xlrd\n",
        "import pandas as pd\n",
        "\n",
        "df = pd.read_excel('https://college.cengage.com/mathematics/brase/understandable_statistics/7e/students/datasets/slr/excel/slr02.xls')\n",
        "df = df.rename(columns={'X':'chirps_per_sec', 'Y':'temperature'})\n",
        "\n",
        "print(df.shape)\n",
        "df.head()"
      ],
      "execution_count": 71,
      "outputs": [
        {
          "output_type": "stream",
          "text": [
            "Requirement already satisfied: xlrd in /usr/local/lib/python3.6/dist-packages (1.1.0)\n",
            "*** No CODEPAGE record, no encoding_override: will use 'ascii'\n",
            "(15, 2)\n"
          ],
          "name": "stdout"
        },
        {
          "output_type": "execute_result",
          "data": {
            "text/html": [
              "<div>\n",
              "<style scoped>\n",
              "    .dataframe tbody tr th:only-of-type {\n",
              "        vertical-align: middle;\n",
              "    }\n",
              "\n",
              "    .dataframe tbody tr th {\n",
              "        vertical-align: top;\n",
              "    }\n",
              "\n",
              "    .dataframe thead th {\n",
              "        text-align: right;\n",
              "    }\n",
              "</style>\n",
              "<table border=\"1\" class=\"dataframe\">\n",
              "  <thead>\n",
              "    <tr style=\"text-align: right;\">\n",
              "      <th></th>\n",
              "      <th>chirps_per_sec</th>\n",
              "      <th>temperature</th>\n",
              "    </tr>\n",
              "  </thead>\n",
              "  <tbody>\n",
              "    <tr>\n",
              "      <th>0</th>\n",
              "      <td>20.000000</td>\n",
              "      <td>88.599998</td>\n",
              "    </tr>\n",
              "    <tr>\n",
              "      <th>1</th>\n",
              "      <td>16.000000</td>\n",
              "      <td>71.599998</td>\n",
              "    </tr>\n",
              "    <tr>\n",
              "      <th>2</th>\n",
              "      <td>19.799999</td>\n",
              "      <td>93.300003</td>\n",
              "    </tr>\n",
              "    <tr>\n",
              "      <th>3</th>\n",
              "      <td>18.400000</td>\n",
              "      <td>84.300003</td>\n",
              "    </tr>\n",
              "    <tr>\n",
              "      <th>4</th>\n",
              "      <td>17.100000</td>\n",
              "      <td>80.599998</td>\n",
              "    </tr>\n",
              "  </tbody>\n",
              "</table>\n",
              "</div>"
            ],
            "text/plain": [
              "   chirps_per_sec  temperature\n",
              "0       20.000000    88.599998\n",
              "1       16.000000    71.599998\n",
              "2       19.799999    93.300003\n",
              "3       18.400000    84.300003\n",
              "4       17.100000    80.599998"
            ]
          },
          "metadata": {
            "tags": []
          },
          "execution_count": 71
        }
      ]
    },
    {
      "metadata": {
        "id": "5oZeVIg12QE2",
        "colab_type": "text"
      },
      "cell_type": "markdown",
      "source": [
        "## 1) Graph a scatterplot of chirps_per_sec vs temperature "
      ]
    },
    {
      "metadata": {
        "id": "AECb-XTY2Ydq",
        "colab_type": "code",
        "outputId": "a8e8ca44-6976-4c24-a912-50b5ee17f112",
        "colab": {
          "base_uri": "https://localhost:8080/",
          "height": 376
        }
      },
      "cell_type": "code",
      "source": [
        "##### Your Code Here #####\n",
        "import matplotlib.pyplot as plt\n",
        "\n",
        "plt.scatter(df['temperature'], df['chirps_per_sec'], marker='o')\n",
        "plt.xlabel('Temperature')\n",
        "plt.ylabel('Chirps/sec')\n",
        "plt.title('Chirps per Second vs Temperature')\n",
        "plt.show()"
      ],
      "execution_count": 4,
      "outputs": [
        {
          "output_type": "display_data",
          "data": {
            "image/png": "[encoded data removed]",
            "text/plain": [
              "<matplotlib.figure.Figure at 0x7fc6d9804d68>"
            ]
          },
          "metadata": {
            "tags": []
          }
        }
      ]
    },
    {
      "metadata": {
        "id": "2aWNZV0V2bEJ",
        "colab_type": "text"
      },
      "cell_type": "markdown",
      "source": [
        "## 2) Follow the steps below to compute the coefficients (intercept and slope) for the line of best fit:\n",
        "\n",
        "## 2.1) Use np.ones to add a column of ones to the dataframe"
      ]
    },
    {
      "metadata": {
        "id": "cRlmMxmi2p1V",
        "colab_type": "code",
        "colab": {}
      },
      "cell_type": "code",
      "source": [
        "##### Your Code Here #####\n",
        "import numpy as np\n",
        "\n",
        "df['ones'] = np.ones(15)"
      ],
      "execution_count": 0,
      "outputs": []
    },
    {
      "metadata": {
        "id": "OJfdQP9x2sI0",
        "colab_type": "text"
      },
      "cell_type": "markdown",
      "source": [
        "## 2.2) Create your X matrix from the 'ones' and 'temperature' columns"
      ]
    },
    {
      "metadata": {
        "id": "Xv86TNYh2z15",
        "colab_type": "code",
        "colab": {}
      },
      "cell_type": "code",
      "source": [
        "##### Your Code Here #####\n",
        "X = df[['ones', 'temperature']].as_matrix()"
      ],
      "execution_count": 0,
      "outputs": []
    },
    {
      "metadata": {
        "id": "ynw-nyzF23Wj",
        "colab_type": "text"
      },
      "cell_type": "markdown",
      "source": [
        "## 2.3) Create your Y vector from the chips_per_sec column. (Make sure that it is formatted as a column vector.)"
      ]
    },
    {
      "metadata": {
        "id": "--prRurc3Buq",
        "colab_type": "code",
        "colab": {}
      },
      "cell_type": "code",
      "source": [
        "##### Your Code Here #####\n",
        "Y = df['chirps_per_sec'].as_matrix().reshape(-1, 1)"
      ],
      "execution_count": 0,
      "outputs": []
    },
    {
      "metadata": {
        "id": "m6x387_d3FJF",
        "colab_type": "text"
      },
      "cell_type": "markdown",
      "source": [
        "## 2.4) Calculate X_transpose and print the result: $X^{T}$ "
      ]
    },
    {
      "metadata": {
        "id": "9ifTSQu93NT7",
        "colab_type": "code",
        "outputId": "e0eb3a49-ea30-421a-b5af-622595b05203",
        "colab": {
          "base_uri": "https://localhost:8080/",
          "height": 119
        }
      },
      "cell_type": "code",
      "source": [
        "##### Your Code Here #####\n",
        "X_transpose = np.transpose(X)\n",
        "print(X_transpose)"
      ],
      "execution_count": 8,
      "outputs": [
        {
          "output_type": "stream",
          "text": [
            "[[ 1.          1.          1.          1.          1.          1.\n",
            "   1.          1.          1.          1.          1.          1.\n",
            "   1.          1.          1.        ]\n",
            " [88.59999847 71.59999847 93.30000305 84.30000305 80.59999847 75.19999695\n",
            "  69.69999695 82.         69.40000153 83.30000305 79.59999847 82.59999847\n",
            "  80.59999847 83.5        76.30000305]]\n"
          ],
          "name": "stdout"
        }
      ]
    },
    {
      "metadata": {
        "id": "UXp5-eOH3QgG",
        "colab_type": "text"
      },
      "cell_type": "markdown",
      "source": [
        "## 2.5) Calculate X_transpose_X and print the result: $X^{T}X$"
      ]
    },
    {
      "metadata": {
        "id": "w6G8_DCw3Pw_",
        "colab_type": "code",
        "outputId": "f67148ad-58fc-45db-d945-b779fee673be",
        "colab": {
          "base_uri": "https://localhost:8080/",
          "height": 51
        }
      },
      "cell_type": "code",
      "source": [
        "##### Your Code Here #####\n",
        "X_transpose_X = np.matmul(X_transpose, X)\n",
        "print(X_transpose_X)"
      ],
      "execution_count": 9,
      "outputs": [
        {
          "output_type": "stream",
          "text": [
            "[[1.50000000e+01 1.20060000e+03]\n",
            " [1.20060000e+03 9.67258599e+04]]\n"
          ],
          "name": "stdout"
        }
      ]
    },
    {
      "metadata": {
        "id": "maQVOiZ03fuj",
        "colab_type": "text"
      },
      "cell_type": "markdown",
      "source": [
        "## 2.6) Calculate the inverse of X_transpose_X and print the result: $(X^{T}X)^{-1}$ "
      ]
    },
    {
      "metadata": {
        "id": "htk9bCmN3zUT",
        "colab_type": "code",
        "outputId": "1c8de181-bf69-4c0e-f220-454a0eb2bad9",
        "colab": {
          "base_uri": "https://localhost:8080/",
          "height": 51
        }
      },
      "cell_type": "code",
      "source": [
        "##### Your Code Here #####\n",
        "X_transpose_X_inv = np.linalg.inv(X_transpose_X)\n",
        "print(X_transpose_X_inv)"
      ],
      "execution_count": 10,
      "outputs": [
        {
          "output_type": "stream",
          "text": [
            "[[ 1.02382034e+01 -1.27080669e-01]\n",
            " [-1.27080669e-01  1.58771451e-03]]\n"
          ],
          "name": "stdout"
        }
      ]
    },
    {
      "metadata": {
        "id": "jKEkWq-j30ty",
        "colab_type": "text"
      },
      "cell_type": "markdown",
      "source": [
        "## 2.7) An aside: Multiply the X_tranpose_X matrix against its inverse: $(X^{T}X)(X^{T}X)^{-1}$  Print the result. What is the name for the resulting matrix?"
      ]
    },
    {
      "metadata": {
        "id": "P5HWnZdS4A3u",
        "colab_type": "code",
        "outputId": "dec0a634-8ca4-418d-b7d2-4e7890e101fc",
        "colab": {
          "base_uri": "https://localhost:8080/",
          "height": 51
        }
      },
      "cell_type": "code",
      "source": [
        "##### Your Code Here #####\n",
        "X_transpose_X_times_inv = np.matmul(X_transpose_X, X_transpose_X_inv)\n",
        "print(X_transpose_X_times_inv)  # should be the identity matrix"
      ],
      "execution_count": 11,
      "outputs": [
        {
          "output_type": "stream",
          "text": [
            "[[1.00000000e+00 6.01565053e-17]\n",
            " [3.50588784e-13 1.00000000e+00]]\n"
          ],
          "name": "stdout"
        }
      ]
    },
    {
      "metadata": {
        "id": "aSbkbyT72QYW",
        "colab_type": "text"
      },
      "cell_type": "markdown",
      "source": [
        "## 2.8) Calculate X_transpose_Y and print the result: $X^{T}Y$"
      ]
    },
    {
      "metadata": {
        "id": "V_05w71-4RLh",
        "colab_type": "code",
        "outputId": "1cd72f41-f94f-4dcd-c846-4e2d602a2eb9",
        "colab": {
          "base_uri": "https://localhost:8080/",
          "height": 51
        }
      },
      "cell_type": "code",
      "source": [
        "##### Your Code Here #####\n",
        "X_transpose_Y = np.matmul(X_transpose, Y)\n",
        "print(X_transpose_Y)"
      ],
      "execution_count": 12,
      "outputs": [
        {
          "output_type": "stream",
          "text": [
            "[[  249.80000019]\n",
            " [20127.47000262]]\n"
          ],
          "name": "stdout"
        }
      ]
    },
    {
      "metadata": {
        "id": "rJCc26lh2Qa9",
        "colab_type": "text"
      },
      "cell_type": "markdown",
      "source": [
        "## 2.9) Finally, calculate the Beta coefficients vector by multiplying the left and right halfs of the linear regression equation. Print the Beta vector: $\\beta = (X^{T}X)^{-1} X^{T}Y$  \n",
        "(You should have all of the parts to do this now)"
      ]
    },
    {
      "metadata": {
        "id": "yTLRwR2h4kaO",
        "colab_type": "code",
        "outputId": "c566861e-de5e-47a2-f53c-852a2814fb26",
        "colab": {
          "base_uri": "https://localhost:8080/",
          "height": 51
        }
      },
      "cell_type": "code",
      "source": [
        "##### Your Code Here #####\n",
        "Beta = np.matmul(X_transpose_X_inv, X_transpose_Y)\n",
        "print(Beta)"
      ],
      "execution_count": 13,
      "outputs": [
        {
          "output_type": "stream",
          "text": [
            "[[-0.3091419 ]\n",
            " [ 0.21192498]]\n"
          ],
          "name": "stdout"
        }
      ]
    },
    {
      "metadata": {
        "id": "m0YYw0WQ2Qeq",
        "colab_type": "text"
      },
      "cell_type": "markdown",
      "source": [
        "## 3) Graph the line of best fit through the scatterplot of the data points"
      ]
    },
    {
      "metadata": {
        "id": "txgLJSAF4Ptc",
        "colab_type": "code",
        "outputId": "407d242e-cae8-46c3-aa2f-f7c22702841f",
        "colab": {
          "base_uri": "https://localhost:8080/",
          "height": 376
        }
      },
      "cell_type": "code",
      "source": [
        "##### Your Code Here #####\n",
        "Beta_0 = Beta[0, 0]\n",
        "Beta_1 = Beta[1, 0]\n",
        "\n",
        "plt.scatter(df['temperature'], df['chirps_per_sec'])\n",
        "axes = plt.gca()\n",
        "x_vals = np.array(axes.get_xlim())\n",
        "y_vals = Beta_0 + Beta_1*x_vals\n",
        "plt.plot(x_vals, y_vals, '-', color='b')\n",
        "plt.xlabel('Temperature')\n",
        "plt.ylabel('Chirps per Second')\n",
        "plt.title('Cricket Chirp Frequency Regression Line')\n",
        "plt.show()"
      ],
      "execution_count": 14,
      "outputs": [
        {
          "output_type": "display_data",
          "data": {
            "image/png": "[encoded data removed]",
            "text/plain": [
              "<matplotlib.figure.Figure at 0x7fc6d9804978>"
            ]
          },
          "metadata": {
            "tags": []
          }
        }
      ]
    },
    {
      "metadata": {
        "id": "aUcBfGgW2QhL",
        "colab_type": "text"
      },
      "cell_type": "markdown",
      "source": [
        "## 4) If a cricket has chirped 19 times in a second what is the predicted temperature? Plot this prediction as well."
      ]
    },
    {
      "metadata": {
        "id": "ibDbYkdvv9Nt",
        "colab_type": "code",
        "outputId": "ac7d3fb0-5b12-471b-e25c-0e5a5d578855",
        "colab": {
          "base_uri": "https://localhost:8080/",
          "height": 393
        }
      },
      "cell_type": "code",
      "source": [
        "##### Your Code Here #####\n",
        "x_19 = (19 - Beta_0)/Beta_1\n",
        "print(x_19)\n",
        "\n",
        "plt.scatter(df['temperature'], df['chirps_per_sec'])\n",
        "axes = plt.gca()\n",
        "x_vals = np.array(axes.get_xlim())\n",
        "y_vals = Beta_0 + Beta_1*x_vals\n",
        "plt.plot(x_vals, y_vals, '-', color='b')\n",
        "plt.scatter(x_19, 19, color='r')\n",
        "plt.xlabel('Temperature')\n",
        "plt.ylabel('Chirps per Second')\n",
        "plt.title('Cricket Chirp Frequency Regression Line')\n",
        "plt.show()"
      ],
      "execution_count": 15,
      "outputs": [
        {
          "output_type": "stream",
          "text": [
            "91.11310072893363\n"
          ],
          "name": "stdout"
        },
        {
          "output_type": "display_data",
          "data": {
            "image/png": "[encoded data removed]",
            "text/plain": [
              "<matplotlib.figure.Figure at 0x7fc6d6ad73c8>"
            ]
          },
          "metadata": {
            "tags": []
          }
        }
      ]
    },
    {
      "metadata": {
        "id": "NTP8CSuQ0_qq",
        "colab_type": "text"
      },
      "cell_type": "markdown",
      "source": [
        "##Stretch Problem\n",
        "Let's add a 3rd dimension. \n",
        "\n",
        "X1 = systolic blood pressure\n",
        "\n",
        "X2 = age in years\n",
        "\n",
        "X3 = weight in pounds\n",
        "\n",
        "Compute the coefficients for the **plane** of best fit for\n",
        "\n",
        "$X_1 = \\beta_1X_2 + \\beta_2X_3 + \\beta_0$\n",
        "\n",
        "Then graph the plane in addition to the  datapoints in a **3D** graph.\n",
        "An article to get you started on [3D graphing](https://jakevdp.github.io/PythonDataScienceHandbook/04.12-three-dimensional-plotting.html)"
      ]
    },
    {
      "metadata": {
        "id": "wghLKfsz0_HX",
        "colab_type": "code",
        "outputId": "c2f23627-8a11-4782-cd2a-424e4ee5981b",
        "colab": {
          "base_uri": "https://localhost:8080/",
          "height": 518
        }
      },
      "cell_type": "code",
      "source": [
        "s_data = pd.read_excel('https://college.cengage.com/mathematics/brase/understandable_statistics/7e/students/datasets/mlr/excel/mlr02.xls')\n",
        "print(s_data)\n",
        "s_data.shape\n",
        "s_data.describe()"
      ],
      "execution_count": 37,
      "outputs": [
        {
          "output_type": "stream",
          "text": [
            "*** No CODEPAGE record, no encoding_override: will use 'ascii'\n",
            "     X1  X2   X3\n",
            "0   132  52  173\n",
            "1   143  59  184\n",
            "2   153  67  194\n",
            "3   162  73  211\n",
            "4   154  64  196\n",
            "5   168  74  220\n",
            "6   137  54  188\n",
            "7   149  61  188\n",
            "8   159  65  207\n",
            "9   128  46  167\n",
            "10  166  72  217\n"
          ],
          "name": "stdout"
        },
        {
          "output_type": "execute_result",
          "data": {
            "text/html": [
              "<div>\n",
              "<style scoped>\n",
              "    .dataframe tbody tr th:only-of-type {\n",
              "        vertical-align: middle;\n",
              "    }\n",
              "\n",
              "    .dataframe tbody tr th {\n",
              "        vertical-align: top;\n",
              "    }\n",
              "\n",
              "    .dataframe thead th {\n",
              "        text-align: right;\n",
              "    }\n",
              "</style>\n",
              "<table border=\"1\" class=\"dataframe\">\n",
              "  <thead>\n",
              "    <tr style=\"text-align: right;\">\n",
              "      <th></th>\n",
              "      <th>X1</th>\n",
              "      <th>X2</th>\n",
              "      <th>X3</th>\n",
              "    </tr>\n",
              "  </thead>\n",
              "  <tbody>\n",
              "    <tr>\n",
              "      <th>count</th>\n",
              "      <td>11.000000</td>\n",
              "      <td>11.000000</td>\n",
              "      <td>11.000000</td>\n",
              "    </tr>\n",
              "    <tr>\n",
              "      <th>mean</th>\n",
              "      <td>150.090909</td>\n",
              "      <td>62.454545</td>\n",
              "      <td>195.000000</td>\n",
              "    </tr>\n",
              "    <tr>\n",
              "      <th>std</th>\n",
              "      <td>13.626845</td>\n",
              "      <td>9.114424</td>\n",
              "      <td>17.314734</td>\n",
              "    </tr>\n",
              "    <tr>\n",
              "      <th>min</th>\n",
              "      <td>128.000000</td>\n",
              "      <td>46.000000</td>\n",
              "      <td>167.000000</td>\n",
              "    </tr>\n",
              "    <tr>\n",
              "      <th>25%</th>\n",
              "      <td>140.000000</td>\n",
              "      <td>56.500000</td>\n",
              "      <td>186.000000</td>\n",
              "    </tr>\n",
              "    <tr>\n",
              "      <th>50%</th>\n",
              "      <td>153.000000</td>\n",
              "      <td>64.000000</td>\n",
              "      <td>194.000000</td>\n",
              "    </tr>\n",
              "    <tr>\n",
              "      <th>75%</th>\n",
              "      <td>160.500000</td>\n",
              "      <td>69.500000</td>\n",
              "      <td>209.000000</td>\n",
              "    </tr>\n",
              "    <tr>\n",
              "      <th>max</th>\n",
              "      <td>168.000000</td>\n",
              "      <td>74.000000</td>\n",
              "      <td>220.000000</td>\n",
              "    </tr>\n",
              "  </tbody>\n",
              "</table>\n",
              "</div>"
            ],
            "text/plain": [
              "               X1         X2          X3\n",
              "count   11.000000  11.000000   11.000000\n",
              "mean   150.090909  62.454545  195.000000\n",
              "std     13.626845   9.114424   17.314734\n",
              "min    128.000000  46.000000  167.000000\n",
              "25%    140.000000  56.500000  186.000000\n",
              "50%    153.000000  64.000000  194.000000\n",
              "75%    160.500000  69.500000  209.000000\n",
              "max    168.000000  74.000000  220.000000"
            ]
          },
          "metadata": {
            "tags": []
          },
          "execution_count": 37
        }
      ]
    },
    {
      "metadata": {
        "id": "wb-45fSKJRNK",
        "colab_type": "code",
        "colab": {}
      },
      "cell_type": "code",
      "source": [
        "s_data['ones'] = np.ones(11)\n",
        "X = s_data[['ones', 'X2', 'X3']].as_matrix()\n",
        "Y = s_data['X1'].as_matrix().reshape(-1, 1)\n",
        "X_transpose = np.transpose(X)\n",
        "X_transpose_X = np.matmul(X_transpose, X)\n",
        "X_transpose_X_inv = np.linalg.inv(X_transpose_X)\n",
        "X_transpose_Y = np.matmul(X_transpose, Y)\n",
        "Beta = np.matmul(X_transpose_X_inv, X_transpose_Y)"
      ],
      "execution_count": 0,
      "outputs": []
    },
    {
      "metadata": {
        "id": "MDD9SuOZMXXZ",
        "colab_type": "code",
        "colab": {}
      },
      "cell_type": "code",
      "source": [
        "from mpl_toolkits import mplot3d"
      ],
      "execution_count": 0,
      "outputs": []
    },
    {
      "metadata": {
        "id": "9PdBoaNFMjpv",
        "colab_type": "code",
        "colab": {
          "base_uri": "https://localhost:8080/",
          "height": 347
        },
        "outputId": "20d0f3c9-ff61-485f-e79c-40d01d764315"
      },
      "cell_type": "code",
      "source": [
        "# Function to calculate plane of best fit\n",
        "def f(X2, X3, Beta):\n",
        "  return Beta[1, 0]*X2 + Beta[2, 0]*X3 + Beta[0, 0]\n",
        "\n",
        "# Create the 3D figure\n",
        "fig = plt.figure()\n",
        "ax = plt.axes(projection='3d')\n",
        "\n",
        "# Add the data points to the figure\n",
        "ax.scatter(s_data['X2'], s_data['X3'], s_data['X1'], color='g')\n",
        "\n",
        "# Get the min and max values of axes\n",
        "x_vals = np.array(ax.get_xlim())\n",
        "y_vals = np.array(ax.get_ylim())\n",
        "\n",
        "# Calculate meshgrid for the plane based on the axes\n",
        "x = np.linspace(x_vals[0], x_vals[1], 30)\n",
        "y = np.linspace(y_vals[0], y_vals[1], 30)\n",
        "xx, yy = np.meshgrid(x, y)\n",
        "zz = f(xx, yy, Beta)\n",
        "\n",
        "# Plot the plane\n",
        "ax.plot_surface(xx, yy, zz, alpha=0.2)\n",
        "\n",
        "# Label the axes and give a title\n",
        "ax.set_xlabel('Age (years)')\n",
        "ax.set_ylabel('Weight (lbs)')\n",
        "ax.set_zlabel('Systolic BP')\n",
        "ax.set_title('Systolic Blood Pressure Regression Plane')"
      ],
      "execution_count": 75,
      "outputs": [
        {
          "output_type": "execute_result",
          "data": {
            "text/plain": [
              "Text(0.5,0.92,'Systolic Blood Pressure Regression Plane')"
            ]
          },
          "metadata": {
            "tags": []
          },
          "execution_count": 75
        },
        {
          "output_type": "display_data",
          "data": {
            "image/png": "[encoded data removed]",
            "text/plain": [
              "<matplotlib.figure.Figure at 0x7fc6d316ce48>"
            ]
          },
          "metadata": {
            "tags": []
          }
        }
      ]
    }
  ]
}